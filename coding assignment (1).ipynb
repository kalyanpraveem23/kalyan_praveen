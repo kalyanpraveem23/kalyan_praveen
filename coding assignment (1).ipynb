{
 "cells": [
  {
   "cell_type": "markdown",
   "id": "b85b2a53-58cf-4aa5-a2c2-3fba1668ac2b",
   "metadata": {},
   "source": [
    "## String"
   ]
  },
  {
   "cell_type": "code",
   "execution_count": 5,
   "id": "55519d26-032a-440a-8123-35230da0b0db",
   "metadata": {},
   "outputs": [
    {
     "name": "stdin",
     "output_type": "stream",
     "text": [
      "Enter a string:  3AnjEIhOSStuo34\n"
     ]
    },
    {
     "name": "stdout",
     "output_type": "stream",
     "text": [
      "Number of vowels: 6\n"
     ]
    }
   ],
   "source": [
    "#1.Count the number of vowels in a string\n",
    "def count_vowels(string):\n",
    "    vowels = \"aeiouAEIOU\"\n",
    "    count = 0\n",
    "\n",
    "    for char in string:\n",
    "        if char in vowels:\n",
    "            count += 1\n",
    "\n",
    "    return count\n",
    "\n",
    "\n",
    "text = input(\"Enter a string: \")\n",
    "print(\"Number of vowels:\", count_vowels(text))"
   ]
  },
  {
   "cell_type": "code",
   "execution_count": 8,
   "id": "dae52d88-b4a4-4c86-9ec2-aa10c6ade497",
   "metadata": {},
   "outputs": [
    {
     "name": "stdin",
     "output_type": "stream",
     "text": [
      "Enter a string:  Madam\n"
     ]
    },
    {
     "name": "stdout",
     "output_type": "stream",
     "text": [
      "It's a palindrome!\n"
     ]
    }
   ],
   "source": [
    "#2.Check if a string is a palindrome\n",
    "\n",
    "def is_palindrome(string):\n",
    "    # Remove spaces and convert to lowercase\n",
    "    cleaned = string.replace(\" \", \"\").lower()\n",
    "    return cleaned == cleaned[::-1]\n",
    "\n",
    "\n",
    "text = input(\"Enter a string: \")\n",
    "\n",
    "if is_palindrome(text):\n",
    "    print(\"It's a palindrome!\")\n",
    "else:\n",
    "    print(\"It's not a palindrome.\")"
   ]
  },
  {
   "cell_type": "code",
   "execution_count": 11,
   "id": "a420cb9a-55aa-4b8e-922b-dee005600c40",
   "metadata": {},
   "outputs": [
    {
     "name": "stdin",
     "output_type": "stream",
     "text": [
      "Enter a string:  aabbcc\n"
     ]
    },
    {
     "name": "stdout",
     "output_type": "stream",
     "text": [
      "No non-repeating character found.\n"
     ]
    }
   ],
   "source": [
    "#3.Find the first non-repeating character in a string\n",
    "def first_non_repeating_char(string):\n",
    "    freq = {}\n",
    "\n",
    "    for char in string:\n",
    "        freq[char] = freq.get(char, 0) + 1\n",
    "\n",
    "    \n",
    "    for char in string:\n",
    "        if freq[char] == 1:\n",
    "            return char\n",
    "\n",
    "    return None\n",
    "\n",
    "\n",
    "text = input(\"Enter a string: \")\n",
    "result = first_non_repeating_char(text)\n",
    "\n",
    "if result:\n",
    "    print(\"First non-repeating character:\", result)\n",
    "else:\n",
    "    print(\"No non-repeating character found.\")\n"
   ]
  },
  {
   "cell_type": "code",
   "execution_count": 16,
   "id": "5594b724-aa70-47b8-b583-9e25335712da",
   "metadata": {},
   "outputs": [
    {
     "name": "stdin",
     "output_type": "stream",
     "text": [
      "Enter a string:  aabbdsa\n"
     ]
    },
    {
     "name": "stdout",
     "output_type": "stream",
     "text": [
      "Longest substring without repeating characters: bdsa\n",
      "Length: 4\n"
     ]
    }
   ],
   "source": [
    "#4.Find the longest substring without repeating characters\n",
    "def longest_unique_substring(s):\n",
    "    start = 0\n",
    "    max_length = 0\n",
    "    used_chars = {}\n",
    "    longest_substr = \"\"\n",
    "\n",
    "    for i ,char in enumerate(s):\n",
    "        if char in used_chars and used_chars[char] >= start:\n",
    "            start = used_chars[char] + 1\n",
    "\n",
    "        used_chars[char] = i\n",
    "        current_length = i - start + 1\n",
    "\n",
    "        if current_length > max_length:\n",
    "            max_length = current_length\n",
    "            longest_substr = s[start:i+1]\n",
    "\n",
    "    return longest_substr\n",
    "\n",
    "\n",
    "text = input(\"Enter a string: \")\n",
    "result = longest_unique_substring(text)\n",
    "print(\"Longest substring without repeating characters:\", result)\n",
    "print(\"Length:\", len(result))\n"
   ]
  },
  {
   "cell_type": "code",
   "execution_count": 17,
   "id": "ae7ef7db-a9e1-4bd0-8fd8-0f55bed69974",
   "metadata": {},
   "outputs": [
    {
     "name": "stdin",
     "output_type": "stream",
     "text": [
      "Enter a string:  banana\n"
     ]
    },
    {
     "name": "stdout",
     "output_type": "stream",
     "text": [
      "String after removing duplicates: ban\n"
     ]
    }
   ],
   "source": [
    "#5.Remove all duplicate characters from a string while maintaining order.\n",
    "def remove_duplicates(string):\n",
    "    seen = set()\n",
    "    result = \"\"\n",
    "\n",
    "    for char in string:\n",
    "        if char not in seen:\n",
    "            seen.add(char)\n",
    "            result += char\n",
    "\n",
    "    return result\n",
    "\n",
    "\n",
    "text = input(\"Enter a string: \")\n",
    "output = remove_duplicates(text)\n",
    "print(\"String after removing duplicates:\", output)\n"
   ]
  },
  {
   "cell_type": "code",
   "execution_count": 20,
   "id": "c0ce7eb6-76ef-47e9-ba67-22699b5dc944",
   "metadata": {},
   "outputs": [
    {
     "name": "stdin",
     "output_type": "stream",
     "text": [
      "Enter a sentence:  hello praveen welcome back\n"
     ]
    },
    {
     "name": "stdout",
     "output_type": "stream",
     "text": [
      "Capitalized sentence: Hello Praveen Welcome Back\n"
     ]
    }
   ],
   "source": [
    "#6.Write a function that capitalizes the first letter of every word in a sentence.\n",
    "def capitalize_words(sentence):\n",
    "    return ' '.join(word.capitalize() for word in sentence.split())\n",
    "\n",
    "\n",
    "text = input(\"Enter a sentence: \")\n",
    "result = capitalize_words(text)\n",
    "print(\"Capitalized sentence:\", result)\n"
   ]
  },
  {
   "cell_type": "code",
   "execution_count": 21,
   "id": "e19309c6-212d-4a7f-8167-81c2aeafbc5d",
   "metadata": {},
   "outputs": [
    {
     "name": "stdin",
     "output_type": "stream",
     "text": [
      "Enter first string:  listen\n",
      "Enter second string:  silent\n"
     ]
    },
    {
     "name": "stdout",
     "output_type": "stream",
     "text": [
      "The strings are anagrams!\n"
     ]
    }
   ],
   "source": [
    "#Write a function to check if two strings are anagrams (contain the sameletters in a different order).\n",
    "\n",
    "def are_anagrams(str1, str2):\n",
    "    str1 = str1.replace(\" \", \"\").lower()\n",
    "    str2 = str2.replace(\" \", \"\").lower()\n",
    "\n",
    "    return sorted(str1) == sorted(str2)\n",
    "\n",
    "\n",
    "word1 = input(\"Enter first string: \")\n",
    "word2 = input(\"Enter second string: \")\n",
    "\n",
    "if are_anagrams(word1, word2):\n",
    "    print(\"The strings are anagrams!\")\n",
    "else:\n",
    "    print(\"The strings are not anagrams.\")\n"
   ]
  },
  {
   "cell_type": "markdown",
   "id": "61a2462b-8b3a-4a66-a6be-6e4500d76a6c",
   "metadata": {},
   "source": [
    "## Python Data Structures & Libraries "
   ]
  },
  {
   "cell_type": "code",
   "execution_count": 22,
   "id": "c6c577ed-da6a-4dbf-b9f3-8d4d344d3378",
   "metadata": {},
   "outputs": [
    {
     "name": "stdout",
     "output_type": "stream",
     "text": [
      "Frequency of elements: {1: 3, 2: 3, 3: 2, 4: 1, 5: 1}\n"
     ]
    }
   ],
   "source": [
    "#1. Given a list of numbers, count the frequency of each element and return it as a dictionary.\n",
    "from collections import Counter\n",
    "\n",
    "num_list = [1, 2, 2, 3, 4, 1, 2, 5, 3, 1]\n",
    "result = dict(Counter(num_list))\n",
    "print(\"Frequency of elements:\", result)"
   ]
  },
  {
   "cell_type": "code",
   "execution_count": 23,
   "id": "e52eb052-ffcc-404e-8ac1-928ab0955a62",
   "metadata": {},
   "outputs": [
    {
     "name": "stdout",
     "output_type": "stream",
     "text": [
      "List after removing duplicates: [1, 2, 3, 4, 5]\n"
     ]
    }
   ],
   "source": [
    "#2Write a function that removes duplicates from a list and maintains the original order using sets.\n",
    "def remove_duplicates(lst):\n",
    "    seen = set()\n",
    "    result = []\n",
    "\n",
    "    for item in lst:\n",
    "        if item not in seen:\n",
    "            seen.add(item)\n",
    "            result.append(item)\n",
    "    \n",
    "    return result\n",
    "\n",
    "\n",
    "original_list = [1, 2, 2, 3, 1, 4, 5, 3]\n",
    "cleaned_list = remove_duplicates(original_list)\n",
    "\n",
    "print(\"List after removing duplicates:\", cleaned_list)\n"
   ]
  },
  {
   "cell_type": "code",
   "execution_count": 24,
   "id": "0050dc10-bebc-4254-a129-151e44174d3d",
   "metadata": {},
   "outputs": [
    {
     "name": "stdout",
     "output_type": "stream",
     "text": [
      "Grouped words: {'a': ['Apple', 'Ant'], 'b': ['Ball', 'Bat'], 'c': ['Cat', 'Cow'], 'd': ['Dog']}\n"
     ]
    }
   ],
   "source": [
    "#3.Group a list of words into a dictionary based on their starting letter.\n",
    "\n",
    "def group_by_starting_letter(words):\n",
    "    grouped = {}\n",
    "    for word in words:\n",
    "        key = word[0].lower()  # use .lower() to group case-insensitively\n",
    "        if key not in grouped:\n",
    "            grouped[key] = [word]\n",
    "        else:\n",
    "            grouped[key].append(word)\n",
    "    return grouped\n",
    "\n",
    "\n",
    "word_list = [\"Apple\", \"Ant\", \"Ball\", \"Bat\", \"Cat\", \"Cow\", \"Dog\"]\n",
    "result = group_by_starting_letter(word_list)\n",
    "\n",
    "print(\"Grouped words:\", result)\n",
    "\n"
   ]
  },
  {
   "cell_type": "code",
   "execution_count": 25,
   "id": "6a53ed14-417a-487e-8a97-73c76ce3897b",
   "metadata": {},
   "outputs": [
    {
     "name": "stdout",
     "output_type": "stream",
     "text": [
      "Sorted dictionary: {'c': 8, 'a': 5, 'd': 3, 'b': 2}\n"
     ]
    }
   ],
   "source": [
    "#Given a dictionary, return it sorted by its values in descending order.\n",
    "def sort_dict_by_values_desc(d):\n",
    "    return dict(sorted(d.items(), key=lambda item: item[1], reverse=True))\n",
    "\n",
    "\n",
    "sample_dict = {'a': 5, 'b': 2, 'c': 8, 'd': 3}\n",
    "sorted_dict = sort_dict_by_values_desc(sample_dict)\n",
    "\n",
    "print(\"Sorted dictionary:\", sorted_dict)\n"
   ]
  },
  {
   "cell_type": "code",
   "execution_count": 28,
   "id": "6cceec56-b8ed-49e4-9f1c-67a5eb1d4a65",
   "metadata": {},
   "outputs": [],
   "source": [
    "#5.Given a list of numbers, find the second largest without sorting the list\n",
    "def find_second_largest(numbers):\n",
    "    if len(numbers) < 2:\n",
    "        return None  \n",
    "\n",
    "    first = second = float('-inf')\n",
    "\n",
    "    for num in numbers:\n",
    "        if num > first:\n",
    "            second = first\n",
    "            first = num\n",
    "        elif first > num > second:\n",
    "            second = num\n",
    "\n",
    "    return second if second != float('-inf') else None\n"
   ]
  },
  {
   "cell_type": "code",
   "execution_count": 30,
   "id": "f495d470-b797-4ed4-a159-df9c602370bc",
   "metadata": {},
   "outputs": [
    {
     "name": "stdout",
     "output_type": "stream",
     "text": [
      "Second largest number: 17\n"
     ]
    }
   ],
   "source": [
    "nums = [10, 5, 20, 8, 20, 15,17]\n",
    "result = find_second_largest(nums)\n",
    "print(\"Second largest number:\", result)"
   ]
  },
  {
   "cell_type": "code",
   "execution_count": null,
   "id": "65fb0684-85c1-4c58-94f4-c9fbc91e9171",
   "metadata": {},
   "outputs": [],
   "source": [
    "#6.Return a list of elements that appear more than once.\n",
    "def find_duplicates(lst):\n",
    "    seen = set()\n",
    "    duplicates = set()\n",
    "\n",
    "    for item in lst:\n",
    "        if item in seen:\n",
    "            duplicates.add(item)\n",
    "        else:\n",
    "            seen.add(item)\n",
    "\n",
    "    return list(duplicates)\n"
   ]
  },
  {
   "cell_type": "code",
   "execution_count": 32,
   "id": "19534f4a-32c2-4281-823f-595427febda9",
   "metadata": {},
   "outputs": [
    {
     "name": "stdout",
     "output_type": "stream",
     "text": [
      "Duplicate elements: [1, 2, 3]\n"
     ]
    }
   ],
   "source": [
    "numbers = [1, 2, 3, 2, 4, 5, 1, 6, 3]\n",
    "result = find_duplicates(numbers)\n",
    "print(\"Duplicate elements:\", result)\n"
   ]
  },
  {
   "cell_type": "markdown",
   "id": "29be3f86-18bf-4440-bd0c-ccb88547029c",
   "metadata": {},
   "source": [
    "## Pandas"
   ]
  },
  {
   "cell_type": "code",
   "execution_count": 39,
   "id": "fd8a4f46-2f36-4119-a174-1bf0f5d2dba0",
   "metadata": {},
   "outputs": [
    {
     "name": "stdout",
     "output_type": "stream",
     "text": [
      "         Name  Age     City Age_Group\n",
      "0     Praveen   22  Chennai     Youth\n",
      "1      kalyan   25   Mumbai     Adult\n",
      "2  Tharushiya   25    Delhi     Adult\n"
     ]
    }
   ],
   "source": [
    "#1Create a DataFrame with columns Name, Age, and City for 3 people. Then print only the Name and City columns.\n",
    "import pandas as pd\n",
    "\n",
    "\n",
    "data = {\n",
    "    'Name': ['Praveen', 'kalyan', 'Tharushiya'],\n",
    "    'Age': [22, 25, 25],\n",
    "    'City': ['Chennai', 'Mumbai', 'Delhi']\n",
    "}\n",
    "\n",
    "df = pd.DataFrame(data)\n",
    "df['Age_Group'] = df['Age'].apply(lambda age: 'Youth' if age < 25 else 'Adult')\n",
    "\n",
    "\n",
    "\n",
    "print(df)\n"
   ]
  },
  {
   "cell_type": "markdown",
   "id": "0be20e3d-1952-4efb-a91d-e5fd350bff80",
   "metadata": {},
   "source": [
    "3. You have the following data about employees:\n",
    "import pandas as pd\n",
    "data = {\n",
    "'Department': ['IT', 'HR', 'IT', 'Finance', 'HR', 'Finance'],\n",
    "'Employee': ['A', 'B', 'C', 'D', 'E', 'F'],\n",
    "'Salary': [60000, 52000, 75000, 67000, 58000, 72000]\n",
    "}\n",
    "df = pd.DataFrame(data)\n",
    "Group the DataFrame by the Department column and calculate the average\n",
    "salary for each department."
   ]
  },
  {
   "cell_type": "code",
   "execution_count": 41,
   "id": "729a40eb-03d2-44f8-a20f-67c85dae46ce",
   "metadata": {},
   "outputs": [
    {
     "name": "stdout",
     "output_type": "stream",
     "text": [
      "Average salary by department:\n",
      "\n",
      "Department\n",
      "Finance    69500.0\n",
      "HR         55000.0\n",
      "IT         67500.0\n",
      "Name: Salary, dtype: float64\n"
     ]
    }
   ],
   "source": [
    "data = {\n",
    "    'Department': ['IT', 'HR', 'IT', 'Finance', 'HR', 'Finance'],\n",
    "    'Employee': ['A', 'B', 'C', 'D', 'E', 'F'],\n",
    "    'Salary': [60000, 52000, 75000, 67000, 58000, 72000]\n",
    "}\n",
    "\n",
    "df = pd.DataFrame(data)\n",
    "\n",
    "\n",
    "avg_salary = df.groupby('Department')['Salary'].mean()\n",
    "\n",
    "\n",
    "print(\"Average salary by department:\\n\")\n",
    "print(avg_salary)"
   ]
  },
  {
   "cell_type": "markdown",
   "id": "9507b559-3b75-4ff9-9a6a-8e6e238840e8",
   "metadata": {},
   "source": [
    "### 4. You are given the following DataFrame:\n",
    "import pandas as pd\n",
    "data = {\n",
    "'Name': ['Alice', 'Bob', 'Charlie', 'David', 'Eve'],\n",
    "'Age': [25, None, 30, None, 22],\n",
    "'Department': ['HR', 'IT', 'HR', 'Finance', 'IT']\n",
    "}\n",
    "df = pd.DataFrame(data)\n",
    "Write Python code to fill the missing values in the \"Age\" column with the\n",
    "average age of all non-null entries."
   ]
  },
  {
   "cell_type": "code",
   "execution_count": 42,
   "id": "9f08be68-186b-4d92-a205-7ee85d22656f",
   "metadata": {},
   "outputs": [
    {
     "name": "stdout",
     "output_type": "stream",
     "text": [
      "      Name        Age Department\n",
      "0    Alice  25.000000         HR\n",
      "1      Bob  25.666667         IT\n",
      "2  Charlie  30.000000         HR\n",
      "3    David  25.666667    Finance\n",
      "4      Eve  22.000000         IT\n"
     ]
    },
    {
     "name": "stderr",
     "output_type": "stream",
     "text": [
      "C:\\Users\\kalya\\AppData\\Local\\Temp\\ipykernel_4072\\2423719447.py:16: FutureWarning: A value is trying to be set on a copy of a DataFrame or Series through chained assignment using an inplace method.\n",
      "The behavior will change in pandas 3.0. This inplace method will never work because the intermediate object on which we are setting values always behaves as a copy.\n",
      "\n",
      "For example, when doing 'df[col].method(value, inplace=True)', try using 'df.method({col: value}, inplace=True)' or df[col] = df[col].method(value) instead, to perform the operation inplace on the original object.\n",
      "\n",
      "\n",
      "  df['Age'].fillna(average_age, inplace=True)\n"
     ]
    }
   ],
   "source": [
    "import pandas as pd\n",
    "\n",
    "\n",
    "data = {\n",
    "    'Name': ['Alice', 'Bob', 'Charlie', 'David', 'Eve'],\n",
    "    'Age': [25, None, 30, None, 22],\n",
    "    'Department': ['HR', 'IT', 'HR', 'Finance', 'IT']\n",
    "}\n",
    "\n",
    "df = pd.DataFrame(data)\n",
    "average_age = df['Age'].mean()\n",
    "\n",
    "\n",
    "df['Age'].fillna(average_age, inplace=True)\n",
    "print(df)\n"
   ]
  },
  {
   "cell_type": "markdown",
   "id": "7c030834-a601-46f0-96f7-959c0536a5ad",
   "metadata": {},
   "source": [
    "## Data visualization"
   ]
  },
  {
   "cell_type": "markdown",
   "id": "7780e9a7-e586-4090-86c9-60f5a43a1ce4",
   "metadata": {},
   "source": [
    "## 1. Plot a line graph showing sales over 6 months.\n",
    "Months: ['Jan', 'Feb', 'Mar', 'Apr', 'May', 'Jun']\n",
    "Sales: [250, 270, 300, 280, 320, 340]"
   ]
  },
  {
   "cell_type": "code",
   "execution_count": 44,
   "id": "1426fbb6-db3b-41c8-9cab-ea9f3cc95514",
   "metadata": {},
   "outputs": [
    {
     "data": {
      "image/png": "[encoded data removed]",
      "text/plain": [
       "<Figure size 640x480 with 1 Axes>"
      ]
     },
     "metadata": {},
     "output_type": "display_data"
    }
   ],
   "source": [
    "import matplotlib.pyplot as plt\n",
    "\n",
    "months = ['Jan', 'Feb', 'Mar', 'Apr', 'May', 'Jun']\n",
    "sales = [250, 270, 300, 280, 320, 340]\n",
    "\n",
    "\n",
    "plt.plot(months, sales, marker='o', linestyle='-', color='blue')\n",
    "plt.title('Monthly Sales Over 6 Months')\n",
    "plt.xlabel('Month')\n",
    "plt.ylabel('Sales')\n",
    "plt.grid(True)\n",
    "\n",
    "plt.show()\n"
   ]
  },
  {
   "cell_type": "markdown",
   "id": "be6644a9-cb02-4610-a329-379efd6e2be4",
   "metadata": {},
   "source": [
    "## 2. Create a bar plot showing average marks of students in 3 subjects using Seaborn.Subjects: ['Math', 'Science', 'English']Marks: [80, 70, 90]"
   ]
  },
  {
   "cell_type": "code",
   "execution_count": 45,
   "id": "5f69b524-f304-49a8-8a06-5f2b97c2c6ff",
   "metadata": {},
   "outputs": [
    {
     "name": "stderr",
     "output_type": "stream",
     "text": [
      "C:\\Users\\kalya\\AppData\\Local\\Temp\\ipykernel_4072\\3478290199.py:16: FutureWarning: \n",
      "\n",
      "Passing `palette` without assigning `hue` is deprecated and will be removed in v0.14.0. Assign the `x` variable to `hue` and set `legend=False` for the same effect.\n",
      "\n",
      "  sns.barplot(data=df, x='Subject', y='Marks', palette='pastel')\n"
     ]
    },
    {
     "data": {
      "image/png": "[encoded data removed]",
      "text/plain": [
       "<Figure size 640x480 with 1 Axes>"
      ]
     },
     "metadata": {},
     "output_type": "display_data"
    }
   ],
   "source": [
    "import seaborn as sns\n",
    "\n",
    "subjects = ['Math', 'Science', 'English']\n",
    "marks = [80, 70, 90]\n",
    "\n",
    "df = pd.DataFrame({\n",
    "    'Subject': subjects,\n",
    "    'Marks': marks\n",
    "})\n",
    "\n",
    "\n",
    "sns.barplot(data=df, x='Subject', y='Marks', palette='pastel')\n",
    "\n",
    "\n",
    "plt.title('Average Marks by Subject')\n",
    "plt.xlabel('Subject')\n",
    "plt.ylabel('Marks')\n",
    "plt.ylim(0, 100)\n",
    "\n",
    "\n",
    "plt.show()\n"
   ]
  },
  {
   "cell_type": "markdown",
   "id": "20fa5b58-f03c-4efc-a2e0-7118dd071a68",
   "metadata": {},
   "source": [
    "## 3. Create a heatmap showing correlation between columns in the following\n",
    "DataFrame:\n",
    "Age Salary Experience\n",
    "25 40000 2\n",
    "30 50000 4\n",
    "35 60000 6\n",
    "40 80000 9"
   ]
  },
  {
   "cell_type": "code",
   "execution_count": 47,
   "id": "83a8fae4-1d3a-4345-888d-20cfc35530b5",
   "metadata": {},
   "outputs": [
    {
     "data": {
      "image/png": "[encoded data removed]",
      "text/plain": [
       "<Figure size 640x480 with 2 Axes>"
      ]
     },
     "metadata": {},
     "output_type": "display_data"
    }
   ],
   "source": [
    "data = {\n",
    "    'Age': [25, 30, 35, 40],\n",
    "    'Salary': [40000, 50000, 60000, 80000],\n",
    "    'Experience': [2, 4, 6, 9]\n",
    "}\n",
    "\n",
    "df = pd.DataFrame(data)\n",
    "correlation = df.corr()\n",
    "sns.heatmap(correlation, annot=True, cmap='coolwarm', linewidths=0.5)\n",
    "\n",
    "plt.title('Correlation Heatmap')\n",
    "plt.show()\n"
   ]
  },
  {
   "cell_type": "markdown",
   "id": "da31b4c2-54ee-4751-8cb8-eb360f28f556",
   "metadata": {},
   "source": [
    "## NumPy"
   ]
  },
  {
   "cell_type": "markdown",
   "id": "c859248c-ecb7-4c5f-a628-5486fbf3f3f3",
   "metadata": {},
   "source": [
    "## 1. Given a space-separated list of integers, convert it into a NumPy array.0"
   ]
  },
  {
   "cell_type": "code",
   "execution_count": 51,
   "id": "5e14f31e-c91f-41cc-91d3-feb4c76ac014",
   "metadata": {},
   "outputs": [
    {
     "name": "stdin",
     "output_type": "stream",
     "text": [
      "Enter space-separated integers:  10 20 33 55 66\n"
     ]
    },
    {
     "name": "stdout",
     "output_type": "stream",
     "text": [
      "NumPy Array: [10 20 33 55 66]\n"
     ]
    }
   ],
   "source": [
    "import numpy as np\n",
    "\n",
    "input_str = input(\"Enter space-separated integers: \")\n",
    "\n",
    "int_list = list(map(int, input_str.split()))\n",
    "arr = np.array(int_list)\n",
    "\n",
    "print(\"NumPy Array:\", arr)\n"
   ]
  },
  {
   "cell_type": "markdown",
   "id": "41bbf436-83ef-4de0-933e-ad3ade90a323",
   "metadata": {},
   "source": [
    "## 2. Create a 3x3 NumPy array from a list of 9 integers."
   ]
  },
  {
   "cell_type": "code",
   "execution_count": 53,
   "id": "4a396d4f-1842-4867-8dff-f2b868d664de",
   "metadata": {},
   "outputs": [
    {
     "name": "stdout",
     "output_type": "stream",
     "text": [
      "3x3 NumPy Array:\n",
      "[[1 2 3]\n",
      " [4 5 6]\n",
      " [7 8 9]]\n"
     ]
    }
   ],
   "source": [
    "nums = [1, 2, 3, 4, 5, 6, 7, 8, 9]\n",
    "arr = np.array(nums).reshape(3, 3)\n",
    "\n",
    "\n",
    "print(\"3x3 NumPy Array:\")\n",
    "print(arr)\n"
   ]
  },
  {
   "cell_type": "markdown",
   "id": "18d01570-5fc2-4aee-a7dd-68608e38b57f",
   "metadata": {},
   "source": [
    "### 3. Given two 2D square matrices, compute their dot product and cross product using NumPy."
   ]
  },
  {
   "cell_type": "code",
   "execution_count": 54,
   "id": "e5179fcf-9bab-4142-81d4-c90bb5b4421f",
   "metadata": {},
   "outputs": [],
   "source": [
    "A = np.array([[1, 2],\n",
    "              [3, 4]])\n",
    "\n",
    "B = np.array([[5, 6],\n",
    "              [7, 8]])\n"
   ]
  },
  {
   "cell_type": "code",
   "execution_count": 55,
   "id": "601531a8-ad30-459c-a3ef-3abac1f852fa",
   "metadata": {},
   "outputs": [
    {
     "name": "stdout",
     "output_type": "stream",
     "text": [
      "Dot Product:\n",
      " [[19 22]\n",
      " [43 50]]\n"
     ]
    }
   ],
   "source": [
    "#1. Dot Product (Matrix Multiplication)\n",
    "dot_product = np.dot(A, B)\n",
    "print(\"Dot Product:\\n\", dot_product)\n"
   ]
  },
  {
   "cell_type": "code",
   "execution_count": 57,
   "id": "8601c17d-1150-4170-bc4f-d860fef56f24",
   "metadata": {},
   "outputs": [
    {
     "name": "stdout",
     "output_type": "stream",
     "text": [
      "Cross Product (row-wise):\n",
      " [[-10  20 -10]\n",
      " [-10  20 -10]\n",
      " [-10  20 -10]]\n"
     ]
    }
   ],
   "source": [
    "# 2. Cross Product\n",
    "A = np.array([[1, 2, 3],\n",
    "              [4, 5, 6],\n",
    "              [7, 8, 9]])\n",
    "\n",
    "B = np.array([[9, 8, 7],\n",
    "              [6, 5, 4],\n",
    "              [3, 2, 1]])\n",
    "\n",
    "cross_product = np.cross(A, B)\n",
    "print(\"Cross Product (row-wise):\\n\", cross_product)\n"
   ]
  },
  {
   "cell_type": "code",
   "execution_count": 58,
   "id": "e6b25677-b021-4a31-bbf4-1c59dfd5a2b6",
   "metadata": {},
   "outputs": [
    {
     "name": "stdout",
     "output_type": "stream",
     "text": [
      "Minimums of each row: [1 2 0]\n",
      "Maximum of the row minimums: 2\n"
     ]
    }
   ],
   "source": [
    "#4. Find the minimum value of each row and then the maximum of those minimums.\n",
    "arr = np.array([\n",
    "    [3, 5, 1],\n",
    "    [7, 2, 8],\n",
    "    [4, 6, 0]\n",
    "])\n",
    "\n",
    "row_mins = np.min(arr, axis=1)\n",
    "print(\"Minimums of each row:\", row_mins)\n",
    "\n",
    "\n",
    "result = np.max(row_mins)\n",
    "print(\"Maximum of the row minimums:\", result)\n"
   ]
  },
  {
   "cell_type": "markdown",
   "id": "e26459ca-6116-4ba8-9662-b16952587e19",
   "metadata": {},
   "source": [
    "## OOPS"
   ]
  },
  {
   "cell_type": "code",
   "execution_count": 60,
   "id": "c36ddbe3-2a79-48cb-b0e7-e6bee8c25824",
   "metadata": {},
   "outputs": [
    {
     "name": "stdout",
     "output_type": "stream",
     "text": [
      "Name: Praveen\n",
      "Roll Number: 101\n",
      "Marks: 85\n",
      "-----------\n",
      "Name: Tharushiya\n",
      "Roll Number: 102\n",
      "Marks: 92\n",
      "-----------\n"
     ]
    }
   ],
   "source": [
    "#1. Create a class Student with attributes name, roll_number, and marks.Create 2 objects and print their details.\n",
    "class Student:\n",
    "    def __init__(self, name, roll_number, marks):\n",
    "        self.name = name\n",
    "        self.roll_number = roll_number\n",
    "        self.marks = marks\n",
    "\n",
    "    def display(self):\n",
    "        print(f\"Name: {self.name}\")\n",
    "        print(f\"Roll Number: {self.roll_number}\")\n",
    "        print(f\"Marks: {self.marks}\")\n",
    "        print(\"-----------\")\n",
    "\n",
    "\n",
    "student1 = Student(\"Praveen\", \"101\", 85)# Create the two student objects\n",
    "student2 = Student(\"Tharushiya\", \"102\", 92)\n",
    "\n",
    "student1.display()\n",
    "student2.display()\n"
   ]
  },
  {
   "cell_type": "code",
   "execution_count": 61,
   "id": "4b0a792f-92d6-425d-a7e1-8580431f288c",
   "metadata": {},
   "outputs": [
    {
     "name": "stdout",
     "output_type": "stream",
     "text": [
      "Vehicle started.\n",
      "Car is being driven.\n"
     ]
    }
   ],
   "source": [
    "## . Create a base class Vehicle with a method start(). Create a derived class Car that inherits from Vehicle and adds a method drive().\n",
    "\n",
    "# Base class\n",
    "class Vehicle:\n",
    "    def start(self):\n",
    "        print(\"Vehicle started.\")\n",
    "\n",
    "# Derived class\n",
    "class Car(Vehicle):\n",
    "    def drive(self):\n",
    "        print(\"Car is being driven.\")\n",
    "\n",
    "# Create an object of Car\n",
    "my_car = Car()\n",
    "\n",
    "# Call methods\n",
    "my_car.start()  # inherited from Vehicle\n",
    "my_car.drive()  # defined in Car\n",
    "\n",
    "\n"
   ]
  },
  {
   "cell_type": "code",
   "execution_count": 62,
   "id": "1c989e72-10c3-4997-8dc3-e20ecda30eb8",
   "metadata": {},
   "outputs": [
    {
     "name": "stdout",
     "output_type": "stream",
     "text": [
      "Some generic animal sound\n",
      "Bark\n"
     ]
    }
   ],
   "source": [
    "## 3. Create a class Animal with a method sound(). Create a class Dog that overrides the sound() method to print \"Bark\".\n",
    "class Animal:\n",
    "    def sound(self):\n",
    "        print(\"Some generic animal sound\")\n",
    "\n",
    "# Derived class\n",
    "class Dog(Animal):\n",
    "    def sound(self):\n",
    "        print(\"Bark\")\n",
    "\n",
    "# Create objects\n",
    "generic_animal = Animal()\n",
    "dog = Dog()\n",
    "\n",
    "# Call the sound method\n",
    "generic_animal.sound()  # From Animal\n",
    "dog.sound()             # Overridden in Dog\n"
   ]
  },
  {
   "cell_type": "code",
   "execution_count": 63,
   "id": "872ef312-ba56-4444-9e50-35d5e178f6b3",
   "metadata": {},
   "outputs": [],
   "source": [
    "## 4. Create a class Account with a private variable __balance. Add methods to deposit and withdraw money, and to view the balance.\n",
    "class Account:\n",
    "    def __init__(self, initial_balance=0):\n",
    "        self.__balance = initial_balance  # Private variable\n",
    "\n",
    "    def deposit(self, amount):\n",
    "        if amount > 0:\n",
    "            self.__balance += amount\n",
    "            print(f\"₹{amount} deposited.\")\n",
    "        else:\n",
    "            print(\"Invalid deposit amount.\")\n",
    "\n",
    "    def withdraw(self, amount):\n",
    "        if 0 < amount <= self.__balance:\n",
    "            self.__balance -= amount\n",
    "            print(f\"₹{amount} withdrawn.\")\n",
    "        else:\n",
    "            print(\"Insufficient balance or invalid amount.\")\n",
    "\n",
    "    def view_balance(self):\n",
    "        print(f\"Current balance: ₹{self.__balance}\")"
   ]
  },
  {
   "cell_type": "code",
   "execution_count": 64,
   "id": "c96a0e70-5ffe-4b1e-a4b9-7e9179c962dc",
   "metadata": {},
   "outputs": [
    {
     "name": "stdout",
     "output_type": "stream",
     "text": [
      "Current balance: ₹1000\n",
      "₹500 deposited.\n",
      "₹300 withdrawn.\n",
      "Current balance: ₹1200\n"
     ]
    }
   ],
   "source": [
    "my_account = Account(1000)\n",
    "\n",
    "my_account.view_balance()    \n",
    "my_account.deposit(500)      \n",
    "my_account.withdraw(300)    \n",
    "my_account.view_balance()"
   ]
  },
  {
   "cell_type": "code",
   "execution_count": 1,
   "id": "f8d17202-fed0-41b4-a42b-7d90406f2374",
   "metadata": {},
   "outputs": [
    {
     "name": "stdout",
     "output_type": "stream",
     "text": [
      "[48.2116261  47.12205344 35.86897005 40.92187079 49.44488877 54.59790898\n",
      " 42.41396826 45.82374127 55.82920743 56.07819333]\n"
     ]
    }
   ],
   "source": [
    "#1. Generate 1000 samples from a normal distribution with mean=50 and std=10 using NumPy\n",
    "\n",
    "samples = np.random.normal(loc=50, scale=10, size=1000)\n",
    "print(samples[:10])\n"
   ]
  },
  {
   "cell_type": "code",
   "execution_count": 2,
   "id": "4a75e325-bfa2-47fe-a787-650380bc262e",
   "metadata": {},
   "outputs": [
    {
     "data": {
      "image/png": "[encoded data removed]",
      "text/plain": [
       "<Figure size 640x480 with 1 Axes>"
      ]
     },
     "metadata": {},
     "output_type": "display_data"
    }
   ],
   "source": [
    "#2. Plot a histogram of 5000 samples drawn from an exponential distribution\n",
    "\n",
    "samples = np.random.exponential(scale=1.0, size=5000)\n",
    "plt.hist(samples, bins=50, color='skyblue', edgecolor='black')\n",
    "plt.title(\"Histogram of Exponential Distribution\")\n",
    "plt.xlabel(\"Value\")\n",
    "plt.ylabel(\"Frequency\")\n",
    "plt.grid(True)\n",
    "plt.show()\n"
   ]
  },
  {
   "cell_type": "code",
   "execution_count": 4,
   "id": "43f6cd01-c432-42b9-8c69-3b41a8f35241",
   "metadata": {},
   "outputs": [
    {
     "name": "stdout",
     "output_type": "stream",
     "text": [
      "Expected Value: 3.5\n"
     ]
    }
   ],
   "source": [
    "#3. Write a function to compute the expected value of a discrete random\n",
    "def expected_value(values, probabilities):\n",
    "    if len(values) != len(probabilities):\n",
    "        raise ValueError(\"Lengths of values and probabilities must match.\")\n",
    "    \n",
    "    return sum(v * p for v, p in zip(values, probabilities))\n",
    "values = [1, 2, 3, 4, 5, 6]\n",
    "probabilities = [1/6] * 6  \n",
    "\n",
    "result = expected_value(values, probabilities)\n",
    "print(\"Expected Value:\", result)\n"
   ]
  },
  {
   "cell_type": "code",
   "execution_count": 6,
   "id": "5b765a3c-731e-43fb-992d-9604c9dfe67a",
   "metadata": {},
   "outputs": [
    {
     "data": {
      "image/png": "[encoded data removed]",
      "text/plain": [
       "<Figure size 1200x500 with 2 Axes>"
      ]
     },
     "metadata": {},
     "output_type": "display_data"
    }
   ],
   "source": [
    "#4. Plot and compare histograms of samples from normal and uniform distributions with same size.sssss\n",
    "\n",
    "normal_samples = np.random.normal(loc=0, scale=1, size=1000)    \n",
    "uniform_samples = np.random.uniform(low=-3, high=3, size=1000)\n",
    "\n",
    "plt.figure(figsize=(12, 5))\n",
    "\n",
    "plt.subplot(1, 2, 1)\n",
    "plt.hist(normal_samples, bins=30, color='skyblue', edgecolor='black')\n",
    "plt.title(\"Normal Distribution\")\n",
    "plt.xlabel(\"Value\")\n",
    "plt.ylabel(\"Frequency\")\n",
    "\n",
    "plt.subplot(1, 2, 2)\n",
    "plt.hist(uniform_samples, bins=30, color='lightgreen', edgecolor='black')\n",
    "plt.title(\"Uniform Distribution\")\n",
    "plt.xlabel(\"Value\")\n",
    "plt.ylabel(\"Frequency\")\n",
    "\n",
    "plt.tight_layout()\n",
    "plt.show()\n"
   ]
  },
  {
   "cell_type": "markdown",
   "id": "42a7cf7f-8ac6-4876-85e2-1420ca68f2b5",
   "metadata": {},
   "source": [
    "## Inferential Statistics"
   ]
  },
  {
   "cell_type": "code",
   "execution_count": 8,
   "id": "17238a13-bea2-43bf-84c6-150a9b0c937e",
   "metadata": {},
   "outputs": [
    {
     "name": "stdout",
     "output_type": "stream",
     "text": [
      "Collecting scipy\n",
      "  Downloading scipy-1.15.3-cp310-cp310-win_amd64.whl.metadata (60 kB)\n",
      "Requirement already satisfied: numpy<2.5,>=1.23.5 in c:\\users\\kalya\\appdata\\local\\programs\\python\\python310\\lib\\site-packages (from scipy) (2.2.6)\n",
      "Downloading scipy-1.15.3-cp310-cp310-win_amd64.whl (41.3 MB)\n",
      "   ---------------------------------------- 0.0/41.3 MB ? eta -:--:--\n",
      "   - -------------------------------------- 1.8/41.3 MB 10.1 MB/s eta 0:00:04\n",
      "   ---- ----------------------------------- 5.0/41.3 MB 12.6 MB/s eta 0:00:03\n",
      "   -------- ------------------------------- 8.4/41.3 MB 14.1 MB/s eta 0:00:03\n",
      "   ---------- ----------------------------- 11.0/41.3 MB 13.8 MB/s eta 0:00:03\n",
      "   ------------- -------------------------- 13.9/41.3 MB 13.6 MB/s eta 0:00:03\n",
      "   --------------- ------------------------ 16.0/41.3 MB 12.9 MB/s eta 0:00:02\n",
      "   ----------------- ---------------------- 18.4/41.3 MB 12.6 MB/s eta 0:00:02\n",
      "   -------------------- ------------------- 21.2/41.3 MB 12.8 MB/s eta 0:00:02\n",
      "   ---------------------- ----------------- 23.3/41.3 MB 12.6 MB/s eta 0:00:02\n",
      "   ------------------------ --------------- 25.7/41.3 MB 12.4 MB/s eta 0:00:02\n",
      "   --------------------------- ------------ 28.0/41.3 MB 12.3 MB/s eta 0:00:02\n",
      "   ----------------------------- ---------- 30.4/41.3 MB 12.1 MB/s eta 0:00:01\n",
      "   ------------------------------- -------- 32.8/41.3 MB 12.1 MB/s eta 0:00:01\n",
      "   ---------------------------------- ----- 35.4/41.3 MB 12.2 MB/s eta 0:00:01\n",
      "   ------------------------------------ --- 37.7/41.3 MB 12.2 MB/s eta 0:00:01\n",
      "   ---------------------------------------  40.6/41.3 MB 12.2 MB/s eta 0:00:01\n",
      "   ---------------------------------------  41.2/41.3 MB 12.2 MB/s eta 0:00:01\n",
      "   ---------------------------------------- 41.3/41.3 MB 11.6 MB/s eta 0:00:00\n",
      "Installing collected packages: scipy\n",
      "Successfully installed scipy-1.15.3\n",
      "Note: you may need to restart the kernel to use updated packages.\n"
     ]
    },
    {
     "name": "stderr",
     "output_type": "stream",
     "text": [
      "\n",
      "[notice] A new release of pip is available: 25.1.1 -> 25.2\n",
      "[notice] To update, run: python.exe -m pip install --upgrade pip\n"
     ]
    }
   ],
   "source": [
    "pip install scipy\n"
   ]
  },
  {
   "cell_type": "code",
   "execution_count": 9,
   "id": "ec944820-22d1-4b1e-8451-4423fdb278a1",
   "metadata": {},
   "outputs": [
    {
     "name": "stdout",
     "output_type": "stream",
     "text": [
      "Mean: 14.1\n",
      "95% Confidence Interval: (np.float64(13.243561120557066), np.float64(14.956438879442933))\n"
     ]
    }
   ],
   "source": [
    "#1. Calculate a 95% confidence interval for the mean of a given dataset using scipy.stats.\n",
    "import numpy as np\n",
    "from scipy import stats\n",
    "\n",
    "data = [12, 14, 15, 13, 14, 16, 15, 14, 13, 15]\n",
    "data = np.array(data)\n",
    "n = len(data)\n",
    "mean = np.mean(data)\n",
    "std_err = stats.sem(data)\n",
    "\n",
    "conf_interval = stats.t.interval(confidence=0.95, df=n-1, loc=mean, scale=std_err)\n",
    "\n",
    "print(\"Mean:\", round(mean, 2))\n",
    "print(\"95% Confidence Interval:\", conf_interval)\n"
   ]
  },
  {
   "cell_type": "code",
   "execution_count": 10,
   "id": "93b58fdc-1ee6-4ef0-9e57-acb4f1537462",
   "metadata": {},
   "outputs": [
    {
     "data": {
      "image/png": "[encoded data removed]",
      "text/plain": [
       "<Figure size 640x480 with 1 Axes>"
      ]
     },
     "metadata": {},
     "output_type": "display_data"
    }
   ],
   "source": [
    "#2. Generate samples from any distribution and show how sample means form a normal distribution.\n",
    "import numpy as np\n",
    "import matplotlib.pyplot as plt\n",
    "\n",
    "\n",
    "num_samples = 1000   \n",
    "sample_size = 30     \n",
    "sample_means = []\n",
    "\n",
    "for _ in range(num_samples):\n",
    "    sample = np.random.exponential(scale=2.0, size=sample_size)\n",
    "    sample_means.append(np.mean(sample))\n",
    "\n",
    "plt.hist(sample_means, bins=40, color='skyblue', edgecolor='black')\n",
    "plt.title(\"Central Limit Theorem: Distribution of Sample Means\")\n",
    "plt.xlabel(\"Sample Mean\")\n",
    "plt.ylabel(\"Frequency\")\n",
    "plt.grid(True)\n",
    "plt.show()\n"
   ]
  },
  {
   "cell_type": "code",
   "execution_count": 12,
   "id": "3ab0cfe9-6ee2-494c-96e5-15d720f5b7df",
   "metadata": {},
   "outputs": [
    {
     "data": {
      "image/png": "[encoded data removed]",
      "text/plain": [
       "<Figure size 640x480 with 1 Axes>"
      ]
     },
     "metadata": {},
     "output_type": "display_data"
    }
   ],
   "source": [
    "#3. Plot how confidence interval width changes with increasing sample size.\n",
    "\n",
    "true_mean = 50\n",
    "true_std = 10\n",
    "\n",
    "sample_sizes = np.arange(10, 500, 10)\n",
    "ci_widths = []\n",
    "\n",
    "for n in sample_sizes:\n",
    "    sample = np.random.normal(loc=true_mean, scale=true_std, size=n)\n",
    "    sem = stats.sem(sample)\n",
    "    ci = stats.t.interval(0.95, df=n-1, loc=np.mean(sample), scale=sem)\n",
    "    \n",
    "    width = ci[1] - ci[0]\n",
    "    ci_widths.append(width)\n",
    "\n",
    "plt.plot(sample_sizes, ci_widths, color='purple', marker='o')\n",
    "plt.title(\"Confidence Interval Width vs Sample Size\")\n",
    "plt.xlabel(\"Sample Size\")\n",
    "plt.ylabel(\"95% CI Width\")\n",
    "plt.grid(True)\n",
    "plt.show()\n",
    "\n"
   ]
  },
  {
   "cell_type": "code",
   "execution_count": 13,
   "id": "a0696f5f-78ea-482b-bb6c-acd9bde245b3",
   "metadata": {},
   "outputs": [
    {
     "name": "stdout",
     "output_type": "stream",
     "text": [
      "Value: 55, Z-Score: -1.50\n",
      "Value: 60, Z-Score: -1.00\n",
      "Value: 65, Z-Score: -0.50\n",
      "Value: 70, Z-Score: 0.00\n",
      "Value: 75, Z-Score: 0.50\n",
      "Value: 80, Z-Score: 1.00\n",
      "Value: 85, Z-Score: 1.50\n"
     ]
    }
   ],
   "source": [
    "#4. Calculate z-scores for all values in a dataset and interpret their meaning.\n",
    "data = [55, 60, 65, 70, 75, 80, 85]\n",
    "\n",
    "z_scores = stats.zscore(data)\n",
    "for i, z in enumerate(z_scores):\n",
    "    print(f\"Value: {data[i]}, Z-Score: {z:.2f}\")\n"
   ]
  },
  {
   "cell_type": "markdown",
   "id": "1907c72c-411e-4982-bb51-6c5c28f8fc55",
   "metadata": {},
   "source": [
    "## Hypothesis Testing"
   ]
  },
  {
   "cell_type": "code",
   "execution_count": 14,
   "id": "fe5d9847-9514-4a5e-91df-c54be6564db3",
   "metadata": {},
   "outputs": [
    {
     "name": "stdout",
     "output_type": "stream",
     "text": [
      "Value: 55, Z-Score: -1.50\n",
      "Value: 60, Z-Score: -1.00\n",
      "Value: 65, Z-Score: -0.50\n",
      "Value: 70, Z-Score: 0.00\n",
      "Value: 75, Z-Score: 0.50\n",
      "Value: 80, Z-Score: 1.00\n",
      "Value: 85, Z-Score: 1.50\n"
     ]
    }
   ],
   "source": [
    "#1. Check if two categorical variables are independent using a contingency table.\n",
    "data = [55, 60, 65, 70, 75, 80, 85]\n",
    "\n",
    "z_scores = stats.zscore(data)\n",
    "\n",
    "for i, z in enumerate(z_scores):\n",
    "    print(f\"Value: {data[i]}, Z-Score: {z:.2f}\")\n"
   ]
  },
  {
   "cell_type": "code",
   "execution_count": 15,
   "id": "3720637d-02e3-4572-9831-b0534b2df674",
   "metadata": {},
   "outputs": [
    {
     "name": "stdout",
     "output_type": "stream",
     "text": [
      "Levene’s test statistic: 1.48\n",
      "p-value: 0.2658\n",
      "✅ No significant difference in variances.\n"
     ]
    }
   ],
   "source": [
    "#2. Compare variances of two or more groups.\n",
    "\n",
    "from scipy.stats import levene\n",
    "\n",
    "group1 = [70, 72, 68, 65, 74]\n",
    "group2 = [88, 85, 87, 89, 90]\n",
    "group3 = [60, 62, 61, 59, 58]\n",
    "\n",
    "stat, p_value = levene(group1, group2, group3)\n",
    "\n",
    "print(\"Levene’s test statistic:\", round(stat, 2))\n",
    "print(\"p-value:\", round(p_value, 4))\n",
    "\n",
    "if p_value < 0.05:\n",
    "    print(\"❌ Variances are significantly different.\")\n",
    "else:\n",
    "    print(\"✅ No significant difference in variances.\")\n",
    "\n"
   ]
  },
  {
   "cell_type": "code",
   "execution_count": 16,
   "id": "0486527e-c73d-4210-b4e6-7742797307c5",
   "metadata": {},
   "outputs": [
    {
     "name": "stdout",
     "output_type": "stream",
     "text": [
      "t-statistic: 0.52\n",
      "p-value: 0.6141\n",
      "✅ Fail to reject the null hypothesis (H₀)\n"
     ]
    }
   ],
   "source": [
    "#3. Perform a hypothesis test and write conditional logic to \"Reject\" or \"Fail to reject\" based on p-value.\n",
    "sample = [72, 75, 78, 71, 70, 74, 73, 69, 76, 77]\n",
    "\n",
    "\n",
    "t_stat, p_value = stats.ttest_1samp(sample, pop_mean)\n",
    "\n",
    "alpha = 0.05\n",
    "\n",
    "print(\"t-statistic:\", round(t_stat, 2))\n",
    "print(\"p-value:\", round(p_value, 4))\n",
    "\n",
    "if p_value < alpha:\n",
    "    print(\"❌ Reject the null hypothesis (H₀)\")\n",
    "else:\n",
    "    print(\"✅ Fail to reject the null hypothesis (H₀)\")\n"
   ]
  },
  {
   "cell_type": "code",
   "execution_count": 17,
   "id": "29a04916-aef2-43cc-81ba-4401667531f8",
   "metadata": {},
   "outputs": [
    {
     "name": "stdout",
     "output_type": "stream",
     "text": [
      "Sample Mean: 166.2\n",
      "t-statistic: 1.04\n",
      "p-value: 0.325\n",
      "✅ Fail to reject the null hypothesis: No significant difference.\n"
     ]
    }
   ],
   "source": [
    "#4. Test whether the average height of a group is different from a given population mean.\n",
    "import numpy as np\n",
    "from scipy import stats\n",
    "\n",
    "sample_heights = [162, 168, 170, 164, 169, 166, 161, 172, 167, 163]\n",
    "\n",
    "population_mean = 165\n",
    "t_stat, p_value = stats.ttest_1samp(sample_heights, population_mean)\n",
    "\n",
    "alpha = 0.05\n",
    "print(\"Sample Mean:\", round(np.mean(sample_heights), 2))\n",
    "print(\"t-statistic:\", round(t_stat, 2))\n",
    "print(\"p-value:\", round(p_value, 4))\n",
    "\n",
    "if p_value < alpha:\n",
    "    print(\"❌ Reject the null hypothesis: Mean is significantly different.\")\n",
    "else:\n",
    "    print(\"✅ Fail to reject the null hypothesis: No significant difference.\")\n"
   ]
  },
  {
   "cell_type": "code",
   "execution_count": null,
   "id": "195f7ab0-0383-4115-97ea-05a3aab8ce43",
   "metadata": {},
   "outputs": [],
   "source": []
  }
 ],
 "metadata": {
  "kernelspec": {
   "display_name": "Python 3 (ipykernel)",
   "language": "python",
   "name": "python3"
  },
  "language_info": {
   "codemirror_mode": {
    "name": "ipython",
    "version": 3
   },
   "file_extension": ".py",
   "mimetype": "text/x-python",
   "name": "python",
   "nbconvert_exporter": "python",
   "pygments_lexer": "ipython3",
   "version": "3.10.11"
  }
 },
 "nbformat": 4,
 "nbformat_minor": 5
}
