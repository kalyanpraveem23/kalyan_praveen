{
 "cells": [
  {
   "cell_type": "markdown",
   "id": "e7fc7846-1f35-4e62-a833-e17c287bc8d8",
   "metadata": {},
   "source": [
    "# break statement"
   ]
  },
  {
   "cell_type": "code",
   "execution_count": 3,
   "id": "198b27c0-1c85-499f-840e-5eed48bc024a",
   "metadata": {},
   "outputs": [
    {
     "name": "stdout",
     "output_type": "stream",
     "text": [
      "0\n",
      "1\n",
      "2\n",
      "3\n",
      "4\n",
      "5\n"
     ]
    }
   ],
   "source": [
    "i = 0\n",
    "while i<12:\n",
    "    print(i)\n",
    "    \n",
    "    if i==5:\n",
    "       break\n",
    "    \n",
    "    i+=1"
   ]
  },
  {
   "cell_type": "code",
   "execution_count": 3,
   "id": "961ea9ba-d5a2-41d6-8348-889cffdd5529",
   "metadata": {
    "scrolled": true
   },
   "outputs": [],
   "source": [
    "def add():\n",
    "    pass"
   ]
  },
  {
   "cell_type": "code",
   "execution_count": 16,
   "id": "73460084-ddec-4362-bd9d-c67e162eda39",
   "metadata": {},
   "outputs": [
    {
     "name": "stdin",
     "output_type": "stream",
     "text": [
      "enter the first num 4\n",
      "enter the sec num 7\n"
     ]
    },
    {
     "name": "stdout",
     "output_type": "stream",
     "text": [
      "11\n"
     ]
    }
   ],
   "source": [
    "def add(x,y):\n",
    "    result=x+y\n",
    "    print(result)\n",
    "    \n",
    "x=int(input(\"enter the first num\"))\n",
    "y=int(input(\"enter the sec num\"))\n",
    "\n",
    "add(x,y)"
   ]
  },
  {
   "cell_type": "markdown",
   "id": "100d5db0-e3a8-4114-9adc-99d4af8873dc",
   "metadata": {},
   "source": [
    "# poistional "
   ]
  },
  {
   "cell_type": "code",
   "execution_count": 22,
   "id": "7a075a90-214d-453c-a11e-dee904ebf562",
   "metadata": {},
   "outputs": [
    {
     "name": "stdout",
     "output_type": "stream",
     "text": [
      "hi 20 you are kalyan years old\n"
     ]
    }
   ],
   "source": [
    "def greet(name ,age):\n",
    "    print(f\"hi {name} you are {age} years old\")\n",
    "\n",
    "greet(20,'kalyan')"
   ]
  },
  {
   "cell_type": "markdown",
   "id": "d631cb87-4be5-444a-ba21-6b6f80f337eb",
   "metadata": {},
   "source": [
    "# key word arugment"
   ]
  },
  {
   "cell_type": "code",
   "execution_count": 25,
   "id": "9628e8ee-3191-428d-8a2d-99a2a57f0f95",
   "metadata": {},
   "outputs": [
    {
     "name": "stdout",
     "output_type": "stream",
     "text": [
      "hi tharushiya you are 43 years old\n"
     ]
    }
   ],
   "source": [
    "greet (age =43,name='tharushiya')"
   ]
  },
  {
   "cell_type": "code",
   "execution_count": 26,
   "id": "d16a8e70-98ab-4bc4-b937-f9ef69c85de4",
   "metadata": {},
   "outputs": [
    {
     "name": "stdout",
     "output_type": "stream",
     "text": [
      "hi tharushiya you are 43 years old\n"
     ]
    }
   ],
   "source": [
    "greet (name='tharushiya',age =43)"
   ]
  },
  {
   "cell_type": "markdown",
   "id": "12b22bb2-e78e-423b-a59c-c78578a65a43",
   "metadata": {},
   "source": [
    "# default arugement"
   ]
  },
  {
   "cell_type": "code",
   "execution_count": 30,
   "id": "914c4217-38df-4772-9e15-826d98d1804e",
   "metadata": {},
   "outputs": [],
   "source": [
    "def greet(name,greeting=\"hi\"):\n",
    "    print(f\"{greeting}  {name}\")"
   ]
  },
  {
   "cell_type": "code",
   "execution_count": 31,
   "id": "21455532-7dba-4583-b22b-3dd4c3e1d29b",
   "metadata": {},
   "outputs": [
    {
     "name": "stdout",
     "output_type": "stream",
     "text": [
      "hi  praveen\n"
     ]
    }
   ],
   "source": [
    "greet(\"praveen\")"
   ]
  },
  {
   "cell_type": "code",
   "execution_count": 33,
   "id": "c1c9ca19-16b7-4156-a79f-e0488670ad14",
   "metadata": {},
   "outputs": [],
   "source": [
    "def greet_1(name,greeting=\"hi\"):\n",
    "    print(f\"{greeting}  {name}\")"
   ]
  },
  {
   "cell_type": "code",
   "execution_count": 34,
   "id": "cd16f048-05d7-4ebc-afb4-abebf18d65ed",
   "metadata": {},
   "outputs": [
    {
     "name": "stdout",
     "output_type": "stream",
     "text": [
      "hello  thurs\n"
     ]
    }
   ],
   "source": [
    "greet_1(\"thurs\",\"hello\")"
   ]
  },
  {
   "cell_type": "markdown",
   "id": "d6f1cd80-41dd-4034-96ee-6e1bc6c0c753",
   "metadata": {},
   "source": [
    "# arbitrary arguments"
   ]
  },
  {
   "cell_type": "code",
   "execution_count": 46,
   "id": "0cc7a041-47b6-4b97-83e3-3736f9e7bcf2",
   "metadata": {},
   "outputs": [],
   "source": [
    "def sum_num(*arg):\n",
    "    total = 0\n",
    "    for num in arg:\n",
    "        total += num\n",
    "    return total\n"
   ]
  },
  {
   "cell_type": "code",
   "execution_count": 47,
   "id": "fbbd7806-d56e-4aaa-89cf-307d970ce73c",
   "metadata": {
    "scrolled": true
   },
   "outputs": [
    {
     "name": "stdout",
     "output_type": "stream",
     "text": [
      "3\n"
     ]
    }
   ],
   "source": [
    "print(sum_num(1,2))"
   ]
  },
  {
   "cell_type": "code",
   "execution_count": 48,
   "id": "4611ff2d-b367-400e-b7a7-f029cc4e9305",
   "metadata": {},
   "outputs": [
    {
     "data": {
      "text/plain": [
       "78"
      ]
     },
     "execution_count": 48,
     "metadata": {},
     "output_type": "execute_result"
    }
   ],
   "source": [
    "sum_num(1,2,3,4,5,6,7,8,9,10,11,12)"
   ]
  },
  {
   "cell_type": "markdown",
   "id": "d6ffc06a-82cd-4ba7-a788-220dac04db62",
   "metadata": {},
   "source": [
    "# keyword arbitrary arguments"
   ]
  },
  {
   "cell_type": "code",
   "execution_count": 50,
   "id": "6ba718aa-2c66-4ba3-b28d-8dc25c6760ba",
   "metadata": {},
   "outputs": [],
   "source": [
    "def dis_info(**kwargs):\n",
    "    for key,value in kwargs.items():\n",
    "        print(f'{key} : {value}')"
   ]
  },
  {
   "cell_type": "code",
   "execution_count": 52,
   "id": "d850ea00-e7cd-429d-bb86-dee6f12fbbe8",
   "metadata": {
    "scrolled": true
   },
   "outputs": [
    {
     "name": "stdout",
     "output_type": "stream",
     "text": [
      "name : kalyan\n",
      "age : 23\n",
      "city : vellore\n"
     ]
    }
   ],
   "source": [
    "dis_info(name=\"kalyan\",age=\"23\",city=\"vellore\")"
   ]
  },
  {
   "cell_type": "code",
   "execution_count": 54,
   "id": "759b8da2-24cf-4d4a-a9e8-dcf8597aca09",
   "metadata": {
    "scrolled": true
   },
   "outputs": [
    {
     "name": "stdout",
     "output_type": "stream",
     "text": [
      "name : kalyan\n",
      "age : 23\n",
      "city : vellore\n",
      "phno : 882432\n"
     ]
    }
   ],
   "source": [
    "dis_info(name=\"kalyan\",age=\"23\",city=\"vellore\",phno=882432)"
   ]
  },
  {
   "cell_type": "code",
   "execution_count": 57,
   "id": "f48adffa-a032-44d4-80bb-b881f5e1d968",
   "metadata": {},
   "outputs": [
    {
     "name": "stdin",
     "output_type": "stream",
     "text": [
      "Enter a number:  9\n"
     ]
    },
    {
     "name": "stdout",
     "output_type": "stream",
     "text": [
      "The number is positive\n",
      "But it is odd\n"
     ]
    }
   ],
   "source": [
    "num = int(input(\"Enter a number: \"))\n",
    "\n",
    "if num > 0:\n",
    "    print(\"The number is positive\")\n",
    "    if num % 2 == 0:\n",
    "        print(\"It is also even\")\n",
    "    else:\n",
    "        print(\"But it is odd\")\n",
    "else:\n",
    "    print(\"The number is not positive\")\n"
   ]
  },
  {
   "cell_type": "markdown",
   "id": "d8575e01-0899-40ce-9a4d-b0fe227eddb4",
   "metadata": {},
   "source": [
    "# List"
   ]
  },
  {
   "cell_type": "code",
   "execution_count": 55,
   "id": "6461bc27-a368-4772-aa5b-241181799746",
   "metadata": {},
   "outputs": [],
   "source": [
    "lst=[10,20,30,40,\"apple\",[50,60,70,80],90]"
   ]
  },
  {
   "cell_type": "code",
   "execution_count": 56,
   "id": "14d955c3-a3e4-4b9a-a758-a80f42f6286d",
   "metadata": {},
   "outputs": [],
   "source": [
    "lst_2=[100,110,120]"
   ]
  },
  {
   "cell_type": "code",
   "execution_count": 57,
   "id": "d8802184-5255-481b-9700-8905b202ecce",
   "metadata": {},
   "outputs": [
    {
     "data": {
      "text/plain": [
       "[10, 20, 30, 40, 'apple', [50, 60, 70, 80], 90]"
      ]
     },
     "execution_count": 57,
     "metadata": {},
     "output_type": "execute_result"
    }
   ],
   "source": [
    "lst"
   ]
  },
  {
   "cell_type": "code",
   "execution_count": 58,
   "id": "74616847-2947-4dea-8f59-4692804cd64f",
   "metadata": {
    "scrolled": true
   },
   "outputs": [
    {
     "data": {
      "text/plain": [
       "'l'"
      ]
     },
     "execution_count": 58,
     "metadata": {},
     "output_type": "execute_result"
    }
   ],
   "source": [
    "lst[4][3]"
   ]
  },
  {
   "cell_type": "code",
   "execution_count": 59,
   "id": "73a6d43d-3049-48ce-abf5-0ace6c642166",
   "metadata": {},
   "outputs": [
    {
     "data": {
      "text/plain": [
       "'apple'"
      ]
     },
     "execution_count": 59,
     "metadata": {},
     "output_type": "execute_result"
    }
   ],
   "source": [
    "lst[4]"
   ]
  },
  {
   "cell_type": "code",
   "execution_count": 60,
   "id": "e6ca3e20-2907-499c-8ad8-ff56508e1ffd",
   "metadata": {},
   "outputs": [],
   "source": [
    "lst.append(\"Orange\")"
   ]
  },
  {
   "cell_type": "code",
   "execution_count": 61,
   "id": "c97cd947-5bd7-40b7-979d-9b9eb8f0a599",
   "metadata": {},
   "outputs": [
    {
     "data": {
      "text/plain": [
       "[10, 20, 30, 40, 'apple', [50, 60, 70, 80], 90, 'Orange']"
      ]
     },
     "execution_count": 61,
     "metadata": {},
     "output_type": "execute_result"
    }
   ],
   "source": [
    "lst"
   ]
  },
  {
   "cell_type": "code",
   "execution_count": 46,
   "id": "50bc92ee-cccc-4f7c-b2d3-ed69232f9da6",
   "metadata": {},
   "outputs": [],
   "source": [
    "lst.insert(3,45)"
   ]
  },
  {
   "cell_type": "code",
   "execution_count": 47,
   "id": "36d27b87-156c-41ef-b153-6463b56a1108",
   "metadata": {},
   "outputs": [
    {
     "data": {
      "text/plain": [
       "[10, 20, 30, 45, 40, 'apple', [50, 60, 70, 80], 90, 'Orange']"
      ]
     },
     "execution_count": 47,
     "metadata": {},
     "output_type": "execute_result"
    }
   ],
   "source": [
    "lst"
   ]
  },
  {
   "cell_type": "code",
   "execution_count": 48,
   "id": "319b5cc7-e72d-40bf-9445-ef9f17d7bdc2",
   "metadata": {},
   "outputs": [
    {
     "data": {
      "text/plain": [
       "1"
      ]
     },
     "execution_count": 48,
     "metadata": {},
     "output_type": "execute_result"
    }
   ],
   "source": [
    "lst.count(20)"
   ]
  },
  {
   "cell_type": "code",
   "execution_count": 49,
   "id": "f0c85021-294b-4206-9acb-c10095fefc7e",
   "metadata": {},
   "outputs": [
    {
     "data": {
      "text/plain": [
       "[10, 20, 30, 45, 40, 'apple', [50, 60, 70, 80], 90, 'Orange']"
      ]
     },
     "execution_count": 49,
     "metadata": {},
     "output_type": "execute_result"
    }
   ],
   "source": [
    "lst"
   ]
  },
  {
   "cell_type": "code",
   "execution_count": 50,
   "id": "0256b9ff-42b4-4ffd-b411-7e5f868b5f2e",
   "metadata": {},
   "outputs": [
    {
     "data": {
      "text/plain": [
       "'Orange'"
      ]
     },
     "execution_count": 50,
     "metadata": {},
     "output_type": "execute_result"
    }
   ],
   "source": [
    "lst.pop()"
   ]
  },
  {
   "cell_type": "code",
   "execution_count": 51,
   "id": "5318163b-fe31-4132-86ae-a92949df7253",
   "metadata": {},
   "outputs": [
    {
     "data": {
      "text/plain": [
       "[10, 20, 30, 45, 40, 'apple', [50, 60, 70, 80], 90]"
      ]
     },
     "execution_count": 51,
     "metadata": {},
     "output_type": "execute_result"
    }
   ],
   "source": [
    "lst"
   ]
  },
  {
   "cell_type": "code",
   "execution_count": 52,
   "id": "e90b8f97-02af-47aa-91a7-f5631fc85395",
   "metadata": {},
   "outputs": [
    {
     "data": {
      "text/plain": [
       "'apple'"
      ]
     },
     "execution_count": 52,
     "metadata": {},
     "output_type": "execute_result"
    }
   ],
   "source": [
    "lst.pop(5)"
   ]
  },
  {
   "cell_type": "code",
   "execution_count": 53,
   "id": "2785f637-82f6-4fb1-b0dc-83c51ca8ee01",
   "metadata": {},
   "outputs": [],
   "source": [
    "lst_2=[100,110,120]"
   ]
  },
  {
   "cell_type": "code",
   "execution_count": 54,
   "id": "0afbae28-ee8d-44f6-ac06-2bac0e65d469",
   "metadata": {},
   "outputs": [],
   "source": [
    "lst.extend(lst_2)"
   ]
  },
  {
   "cell_type": "markdown",
   "id": "eeda2cd7-f562-4abe-8d23-bb194471908f",
   "metadata": {},
   "source": [
    "# Tuple"
   ]
  },
  {
   "cell_type": "code",
   "execution_count": 10,
   "id": "e209046d-13f5-4a08-9aa4-447d70d0b3d6",
   "metadata": {},
   "outputs": [],
   "source": [
    "tup=(1,2,2.6,\"Hello\",[4,5,6],2,20)"
   ]
  },
  {
   "cell_type": "code",
   "execution_count": 2,
   "id": "69f2e889-102b-4477-aa5e-7c4458a359d9",
   "metadata": {},
   "outputs": [
    {
     "data": {
      "text/plain": [
       "tuple"
      ]
     },
     "execution_count": 2,
     "metadata": {},
     "output_type": "execute_result"
    }
   ],
   "source": [
    "type(tup)"
   ]
  },
  {
   "cell_type": "code",
   "execution_count": 6,
   "id": "e4509abe-0701-4efd-b54e-d78b4af7caed",
   "metadata": {},
   "outputs": [
    {
     "data": {
      "text/plain": [
       "2"
      ]
     },
     "execution_count": 6,
     "metadata": {},
     "output_type": "execute_result"
    }
   ],
   "source": [
    "tup.count(2)"
   ]
  },
  {
   "cell_type": "code",
   "execution_count": 9,
   "id": "2b95503e-a520-4c26-8eaa-0c40306bfde3",
   "metadata": {
    "scrolled": true
   },
   "outputs": [
    {
     "data": {
      "text/plain": [
       "3"
      ]
     },
     "execution_count": 9,
     "metadata": {},
     "output_type": "execute_result"
    }
   ],
   "source": [
    "tup.index(\"Hello\")"
   ]
  },
  {
   "cell_type": "code",
   "execution_count": 11,
   "id": "1783f324-f1c5-4df8-a4c2-80e74e903d15",
   "metadata": {},
   "outputs": [
    {
     "data": {
      "text/plain": [
       "6"
      ]
     },
     "execution_count": 11,
     "metadata": {},
     "output_type": "execute_result"
    }
   ],
   "source": [
    "tup.index(20)"
   ]
  },
  {
   "cell_type": "markdown",
   "id": "f5df4e62-9e0f-4eb6-9cfa-dfe6198b56b8",
   "metadata": {},
   "source": [
    "# set"
   ]
  },
  {
   "cell_type": "code",
   "execution_count": 1,
   "id": "9e167b2e-d85b-412f-bebd-b6990994d5a3",
   "metadata": {},
   "outputs": [],
   "source": [
    "set={1,2,2.6,\"Hello\",(4,5,6),2,20}"
   ]
  },
  {
   "cell_type": "code",
   "execution_count": 2,
   "id": "84c6160a-da74-447e-9029-5fa5b4f15d47",
   "metadata": {},
   "outputs": [
    {
     "data": {
      "text/plain": [
       "{(4, 5, 6), 1, 2, 2.6, 20, 'Hello'}"
      ]
     },
     "execution_count": 2,
     "metadata": {},
     "output_type": "execute_result"
    }
   ],
   "source": [
    "set"
   ]
  },
  {
   "cell_type": "code",
   "execution_count": 3,
   "id": "762eaad0-d96b-4271-9136-1524625cca64",
   "metadata": {},
   "outputs": [],
   "source": [
    "set.add('tharushiya')"
   ]
  },
  {
   "cell_type": "code",
   "execution_count": 4,
   "id": "037aaccf-2959-44ad-8829-b5cc17c060f1",
   "metadata": {},
   "outputs": [
    {
     "data": {
      "text/plain": [
       "{(4, 5, 6), 1, 2, 2.6, 20, 'Hello', 'tharushiya'}"
      ]
     },
     "execution_count": 4,
     "metadata": {},
     "output_type": "execute_result"
    }
   ],
   "source": [
    "set"
   ]
  },
  {
   "cell_type": "code",
   "execution_count": 5,
   "id": "1b48cd03-4b96-44c9-a515-49d5497deb6e",
   "metadata": {},
   "outputs": [
    {
     "data": {
      "text/plain": [
       "{(4, 5, 6), 1, 2, 2.6, 20, 'Hello', 'tharushiya'}"
      ]
     },
     "execution_count": 5,
     "metadata": {},
     "output_type": "execute_result"
    }
   ],
   "source": [
    "set.difference()"
   ]
  },
  {
   "cell_type": "code",
   "execution_count": 28,
   "id": "b87967ff-cfaf-466c-81f3-9be4d65a9aa9",
   "metadata": {},
   "outputs": [],
   "source": [
    "set_1={1,3.5,5,8}\n",
    "set_2={3,'kalyan',5,6,4}"
   ]
  },
  {
   "cell_type": "code",
   "execution_count": 29,
   "id": "9e6507be-73b3-4613-aedf-4cdfed274558",
   "metadata": {},
   "outputs": [
    {
     "data": {
      "text/plain": [
       "{1, 3.5, 8}"
      ]
     },
     "execution_count": 29,
     "metadata": {},
     "output_type": "execute_result"
    }
   ],
   "source": [
    "set_1.difference(set_2)"
   ]
  },
  {
   "cell_type": "code",
   "execution_count": 34,
   "id": "5ea4e142-baaa-480a-9471-2c36154caad2",
   "metadata": {},
   "outputs": [],
   "source": [
    "set.discard('tharushiya')"
   ]
  },
  {
   "cell_type": "code",
   "execution_count": 35,
   "id": "d49b9e48-a5af-4502-94fb-9a1e1647fed2",
   "metadata": {},
   "outputs": [
    {
     "data": {
      "text/plain": [
       "{(4, 5, 6), 1, 2, 2.6, 20, 'Hello'}"
      ]
     },
     "execution_count": 35,
     "metadata": {},
     "output_type": "execute_result"
    }
   ],
   "source": [
    "set"
   ]
  },
  {
   "cell_type": "markdown",
   "id": "8d00e3da-5f7e-40c9-8a9a-801b89e7a75d",
   "metadata": {},
   "source": [
    "# dictionary"
   ]
  },
  {
   "cell_type": "code",
   "execution_count": 6,
   "id": "c87f4185-7d69-457e-b126-38c72187d0e7",
   "metadata": {},
   "outputs": [],
   "source": [
    "dict={'name':\"kalyan\",'age':23,'occupation':'vellore'}"
   ]
  },
  {
   "cell_type": "code",
   "execution_count": 7,
   "id": "3acf3d4e-f92a-4065-b841-3555c7c5344c",
   "metadata": {},
   "outputs": [
    {
     "data": {
      "text/plain": [
       "{'name': 'kalyan', 'age': 23, 'occupation': 'vellore'}"
      ]
     },
     "execution_count": 7,
     "metadata": {},
     "output_type": "execute_result"
    }
   ],
   "source": [
    "dict"
   ]
  },
  {
   "cell_type": "code",
   "execution_count": 10,
   "id": "ef4350e3-400e-4ad0-84b1-7a3d1ee4c966",
   "metadata": {},
   "outputs": [
    {
     "data": {
      "text/plain": [
       "'vellore'"
      ]
     },
     "execution_count": 10,
     "metadata": {},
     "output_type": "execute_result"
    }
   ],
   "source": [
    "dict['occupation']"
   ]
  },
  {
   "cell_type": "code",
   "execution_count": 9,
   "id": "679d4b29-7d08-4321-8924-73efd9eca26e",
   "metadata": {},
   "outputs": [
    {
     "data": {
      "text/plain": [
       "dict_keys(['name', 'age', 'occupation'])"
      ]
     },
     "execution_count": 9,
     "metadata": {},
     "output_type": "execute_result"
    }
   ],
   "source": [
    "dict.keys()"
   ]
  },
  {
   "cell_type": "code",
   "execution_count": 44,
   "id": "a85f28aa-0cc0-44a6-ac38-f9c00f71f336",
   "metadata": {},
   "outputs": [
    {
     "data": {
      "text/plain": [
       "dict_items([('name', 'kalyan'), ('age', 23), ('occupation', 'vellore')])"
      ]
     },
     "execution_count": 44,
     "metadata": {},
     "output_type": "execute_result"
    }
   ],
   "source": [
    "dict.items()"
   ]
  },
  {
   "cell_type": "code",
   "execution_count": null,
   "id": "237f77d9-b5f5-4304-998d-e6591e41b2a5",
   "metadata": {},
   "outputs": [],
   "source": []
  }
 ],
 "metadata": {
  "kernelspec": {
   "display_name": "Python 3 (ipykernel)",
   "language": "python",
   "name": "python3"
  },
  "language_info": {
   "codemirror_mode": {
    "name": "ipython",
    "version": 3
   },
   "file_extension": ".py",
   "mimetype": "text/x-python",
   "name": "python",
   "nbconvert_exporter": "python",
   "pygments_lexer": "ipython3",
   "version": "3.10.11"
  }
 },
 "nbformat": 4,
 "nbformat_minor": 5
}
