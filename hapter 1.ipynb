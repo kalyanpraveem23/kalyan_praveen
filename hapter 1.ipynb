{
 "cells": [
  {
   "cell_type": "code",
   "execution_count": 56,
   "id": "28435ac5-0870-40be-8a1e-6fea67454fd1",
   "metadata": {},
   "outputs": [
    {
     "name": "stdout",
     "output_type": "stream",
     "text": [
      " hello praveen\n"
     ]
    }
   ],
   "source": [
    "print(\" hello praveen\")"
   ]
  },
  {
   "cell_type": "code",
   "execution_count": 57,
   "id": "df62fbfe-ac07-415c-9f73-65d512849c7a",
   "metadata": {},
   "outputs": [],
   "source": [
    "a=10 \n"
   ]
  },
  {
   "cell_type": "code",
   "execution_count": 58,
   "id": "10e0b8b5-1750-41b4-810d-4cb5b625c3ee",
   "metadata": {},
   "outputs": [],
   "source": [
    "b = 1.5"
   ]
  },
  {
   "cell_type": "code",
   "execution_count": 59,
   "id": "4b2bb877-34e5-49d9-afdf-c17b4bc41f9b",
   "metadata": {},
   "outputs": [
    {
     "data": {
      "text/plain": [
       "int"
      ]
     },
     "execution_count": 59,
     "metadata": {},
     "output_type": "execute_result"
    }
   ],
   "source": [
    "type(a)"
   ]
  },
  {
   "cell_type": "code",
   "execution_count": 60,
   "id": "faba066d-cb71-44ab-aa17-b7f6059793bc",
   "metadata": {},
   "outputs": [
    {
     "data": {
      "text/plain": [
       "float"
      ]
     },
     "execution_count": 60,
     "metadata": {},
     "output_type": "execute_result"
    }
   ],
   "source": [
    "type(b)"
   ]
  },
  {
   "cell_type": "code",
   "execution_count": 61,
   "id": "3f54456b-c943-4c39-8a7c-6ece0b7e58c0",
   "metadata": {},
   "outputs": [
    {
     "name": "stdout",
     "output_type": "stream",
     "text": [
      "'kalyan' is too smart\n"
     ]
    }
   ],
   "source": [
    "print(\"'kalyan' is too smart\")"
   ]
  },
  {
   "cell_type": "code",
   "execution_count": 62,
   "id": "5b27fb6a-8c6a-4b60-af83-79425b0852c9",
   "metadata": {},
   "outputs": [],
   "source": [
    "First_name='kalyan'"
   ]
  },
  {
   "cell_type": "code",
   "execution_count": 63,
   "id": "a3e1290d-b474-4a8a-af9f-167eff2a5c82",
   "metadata": {},
   "outputs": [],
   "source": [
    "Last_name='VL'"
   ]
  },
  {
   "cell_type": "code",
   "execution_count": 64,
   "id": "7889c845-e080-444b-adce-7a8795bb70d7",
   "metadata": {},
   "outputs": [
    {
     "data": {
      "text/plain": [
       "'KALYAN'"
      ]
     },
     "execution_count": 64,
     "metadata": {},
     "output_type": "execute_result"
    }
   ],
   "source": [
    "First_name.upper()"
   ]
  },
  {
   "cell_type": "code",
   "execution_count": 65,
   "id": "0d9e6622-0a80-47db-8b23-bf05f4e82e45",
   "metadata": {},
   "outputs": [
    {
     "data": {
      "text/plain": [
       "'kalyan'"
      ]
     },
     "execution_count": 65,
     "metadata": {},
     "output_type": "execute_result"
    }
   ],
   "source": [
    "First_name.lower()"
   ]
  },
  {
   "cell_type": "code",
   "execution_count": 66,
   "id": "36d7773e-e704-41a4-ba3c-8c431fb129f5",
   "metadata": {},
   "outputs": [
    {
     "data": {
      "text/plain": [
       "'vl'"
      ]
     },
     "execution_count": 66,
     "metadata": {},
     "output_type": "execute_result"
    }
   ],
   "source": [
    "Last_name.lower()"
   ]
  },
  {
   "cell_type": "code",
   "execution_count": 79,
   "id": "3c0876fb-95c7-48c7-bd1b-4df4277d17e2",
   "metadata": {},
   "outputs": [
    {
     "ename": "TypeError",
     "evalue": "str.capitalize() takes no arguments (1 given)",
     "output_type": "error",
     "traceback": [
      "\u001b[1;31m---------------------------------------------------------------------------\u001b[0m",
      "\u001b[1;31mTypeError\u001b[0m                                 Traceback (most recent call last)",
      "Cell \u001b[1;32mIn[79], line 1\u001b[0m\n\u001b[1;32m----> 1\u001b[0m \u001b[43mFirst_name\u001b[49m\u001b[38;5;241;43m.\u001b[39;49m\u001b[43mcapitalize\u001b[49m\u001b[43m(\u001b[49m\u001b[38;5;124;43m\"\u001b[39;49m\u001b[38;5;124;43mK\u001b[39;49m\u001b[38;5;124;43m\"\u001b[39;49m\u001b[43m)\u001b[49m\n",
      "\u001b[1;31mTypeError\u001b[0m: str.capitalize() takes no arguments (1 given)"
     ]
    }
   ],
   "source": [
    "First_name.capitalize(\"K\")"
   ]
  },
  {
   "cell_type": "code",
   "execution_count": 68,
   "id": "c90f3569-e4d3-489c-ae8f-f2ef04bb97ee",
   "metadata": {
    "scrolled": true
   },
   "outputs": [
    {
     "data": {
      "text/plain": [
       "'  kalyan  '"
      ]
     },
     "execution_count": 68,
     "metadata": {},
     "output_type": "execute_result"
    }
   ],
   "source": [
    "First_name.center(10)"
   ]
  },
  {
   "cell_type": "code",
   "execution_count": 77,
   "id": "702b9349-4987-484e-b1b4-1fe00306bb7b",
   "metadata": {},
   "outputs": [
    {
     "data": {
      "text/plain": [
       "b'kalyan'"
      ]
     },
     "execution_count": 77,
     "metadata": {},
     "output_type": "execute_result"
    }
   ],
   "source": [
    "First_name.encode()"
   ]
  },
  {
   "cell_type": "code",
   "execution_count": 76,
   "id": "2f6f8347-a1f1-4166-9376-716ec3547394",
   "metadata": {
    "scrolled": true
   },
   "outputs": [
    {
     "data": {
      "text/plain": [
       "False"
      ]
     },
     "execution_count": 76,
     "metadata": {},
     "output_type": "execute_result"
    }
   ],
   "source": [
    "First_name.endswith(\"1\")"
   ]
  },
  {
   "cell_type": "code",
   "execution_count": 73,
   "id": "88e16ec5-7359-46ad-a00c-9e430ceafcaa",
   "metadata": {},
   "outputs": [
    {
     "data": {
      "text/plain": [
       "False"
      ]
     },
     "execution_count": 73,
     "metadata": {},
     "output_type": "execute_result"
    }
   ],
   "source": [
    "First_name.isdecimal()"
   ]
  },
  {
   "cell_type": "raw",
   "id": "95cf4c1f-0226-4787-97f4-20baa145b4bf",
   "metadata": {},
   "source": [
    "First_name.lower()"
   ]
  },
  {
   "cell_type": "code",
   "execution_count": null,
   "id": "d096f97b-0764-4409-98a1-ce4be94e1213",
   "metadata": {},
   "outputs": [],
   "source": [
    "Full_Name=First_name+\" \"+Last_name"
   ]
  },
  {
   "cell_type": "code",
   "execution_count": null,
   "id": "c102d046-5b07-4edf-a434-8cb6c6d6f643",
   "metadata": {},
   "outputs": [],
   "source": [
    "Full_Name"
   ]
  },
  {
   "cell_type": "code",
   "execution_count": null,
   "id": "2b1a4622-8277-48c8-bf93-264b20940050",
   "metadata": {},
   "outputs": [],
   "source": [
    "Full_Name[5:]"
   ]
  },
  {
   "cell_type": "code",
   "execution_count": null,
   "id": "bcaae077-8def-402b-8b2f-9987c63f1f3d",
   "metadata": {},
   "outputs": [],
   "source": [
    "First_Name."
   ]
  },
  {
   "cell_type": "code",
   "execution_count": null,
   "id": "4f35925f-d73b-41a8-9daa-58d933dc2545",
   "metadata": {},
   "outputs": [],
   "source": [
    "Full_Name[:5]"
   ]
  },
  {
   "cell_type": "markdown",
   "id": "b3f94a26-f8b2-41d1-845c-55a9ebdc978b",
   "metadata": {},
   "source": [
    "# Operators"
   ]
  },
  {
   "cell_type": "code",
   "execution_count": null,
   "id": "9982e1c2-4a78-4e68-b571-a403b3c348aa",
   "metadata": {},
   "outputs": [],
   "source": [
    "a=10\n",
    "b=20"
   ]
  },
  {
   "cell_type": "code",
   "execution_count": null,
   "id": "d3e9a32c-a7f0-4107-8d8a-884c562bb653",
   "metadata": {},
   "outputs": [],
   "source": [
    "a=a+b"
   ]
  },
  {
   "cell_type": "code",
   "execution_count": null,
   "id": "99bb3f99-144c-4780-8dd4-28374de136f2",
   "metadata": {},
   "outputs": [],
   "source": [
    "print(a)"
   ]
  },
  {
   "cell_type": "code",
   "execution_count": null,
   "id": "5d51f90f-e35d-4b95-8500-6ff6eb638f35",
   "metadata": {},
   "outputs": [],
   "source": [
    "a+=b"
   ]
  },
  {
   "cell_type": "code",
   "execution_count": null,
   "id": "74c280af-37a8-4b26-b733-518d9c0af293",
   "metadata": {},
   "outputs": [],
   "source": [
    "a"
   ]
  },
  {
   "cell_type": "code",
   "execution_count": null,
   "id": "2380bdf9-7eaf-4f6a-9d19-0033b2fbcdb3",
   "metadata": {},
   "outputs": [],
   "source": [
    "x=[\"a\",\"b\",\"c\"]\n",
    "y=[\"a\",\"c\"]"
   ]
  },
  {
   "cell_type": "code",
   "execution_count": null,
   "id": "23af3ae4-bc45-4c6e-85d8-879077cd65f1",
   "metadata": {},
   "outputs": [],
   "source": [
    "x is y"
   ]
  },
  {
   "cell_type": "code",
   "execution_count": null,
   "id": "a0dd7f3a-ab8a-48ec-8d4a-df5c468aa392",
   "metadata": {},
   "outputs": [],
   "source": [
    "x in y"
   ]
  },
  {
   "cell_type": "code",
   "execution_count": null,
   "id": "98facdd7-6801-498f-a754-b30f0d455710",
   "metadata": {},
   "outputs": [],
   "source": [
    "a = int(input(\"Enter the first num\"))\n",
    "b = int(input(\"Enter the second num\"))\n",
    "\n",
    "sum = a+b\n",
    "print(sum)"
   ]
  },
  {
   "cell_type": "code",
   "execution_count": null,
   "id": "7eaaafab-d18d-45ba-b752-6335af840f56",
   "metadata": {},
   "outputs": [],
   "source": [
    "Name = input(\"Enter the name\")\n",
    "age  = int(input(\"Enter the age\"))\n",
    "\n",
    "\n",
    "\n",
    "print(f\"hi {Name} after {age+20}\")"
   ]
  },
  {
   "cell_type": "code",
   "execution_count": 85,
   "id": "cef05912-e607-4898-b975-ee000b2c4b98",
   "metadata": {},
   "outputs": [
    {
     "name": "stdout",
     "output_type": "stream",
     "text": [
      "Welcome to data science\n"
     ]
    }
   ],
   "source": [
    "x =\"Welcome to data science\"\n",
    "print(x.capitalize())"
   ]
  },
  {
   "cell_type": "markdown",
   "id": "0b422bd1-5426-451e-bd4c-7502b33af29a",
   "metadata": {},
   "source": [
    "# condition Statement"
   ]
  },
  {
   "cell_type": "markdown",
   "id": "7a370388-d76a-4ccf-8a9d-f5029af9d4d1",
   "metadata": {},
   "source": [
    "# if statement"
   ]
  },
  {
   "cell_type": "code",
   "execution_count": 12,
   "id": "3f6a13b8-7016-4977-950c-878b8c45c6eb",
   "metadata": {},
   "outputs": [
    {
     "name": "stdin",
     "output_type": "stream",
     "text": [
      "Enter your age: 8\n"
     ]
    },
    {
     "name": "stdout",
     "output_type": "stream",
     "text": [
      " you enter the age\n"
     ]
    }
   ],
   "source": [
    "age = int(input(\"Enter your age:\"))\n",
    "p_age=10\n",
    "\n",
    "if age <p_age:\n",
    "    print(\" you enter the age\")"
   ]
  },
  {
   "cell_type": "markdown",
   "id": "ffb9e213-37d1-4b4c-a329-484fa7571a5c",
   "metadata": {},
   "source": [
    "# if else "
   ]
  },
  {
   "cell_type": "code",
   "execution_count": 8,
   "id": "8c53ddc8-06e3-4c95-b023-c18e103268c6",
   "metadata": {},
   "outputs": [
    {
     "name": "stdin",
     "output_type": "stream",
     "text": [
      "Enter your age: 10\n"
     ]
    },
    {
     "name": "stdout",
     "output_type": "stream",
     "text": [
      "you are 10 year old so not enter the age\n"
     ]
    }
   ],
   "source": [
    "age = int(input(\"Enter your age:\"))\n",
    "p_age=10\n",
    "\n",
    "if age <p_age:\n",
    "    print(\" you enter the age\")\n",
    "else:\n",
    "    print(f\"you are {age} year old so not enter the age\")"
   ]
  },
  {
   "cell_type": "markdown",
   "id": "682a7ca4-3800-41d7-b71d-6f6598d5a064",
   "metadata": {},
   "source": [
    "# if elif else"
   ]
  },
  {
   "cell_type": "code",
   "execution_count": 11,
   "id": "e64f2b97-2fb3-4f8e-b7be-fc539f4e90c0",
   "metadata": {},
   "outputs": [
    {
     "name": "stdin",
     "output_type": "stream",
     "text": [
      "enter the first num 9\n",
      "enter the second num 5\n"
     ]
    },
    {
     "name": "stdout",
     "output_type": "stream",
     "text": [
      "b is less than a\n"
     ]
    }
   ],
   "source": [
    "a=int(input(\"enter the first num\"))\n",
    "b=int(input(\"enter the second num\"))\n",
    "\n",
    "if  b>a:\n",
    "    print(\"b is Greater than a\")\n",
    "\n",
    "elif b<a:\n",
    "    print(\"b is less than a\")\n",
    "\n",
    "else:\n",
    "    print(\"b is equal to a\")\n",
    "\n"
   ]
  },
  {
   "cell_type": "markdown",
   "id": "d9c81956-ce7f-4d82-adc2-907386ddf075",
   "metadata": {},
   "source": [
    "# While loop"
   ]
  },
  {
   "cell_type": "code",
   "execution_count": 17,
   "id": "6cce4dff-82ef-45bb-86a6-d5b97741a7f3",
   "metadata": {},
   "outputs": [
    {
     "name": "stdout",
     "output_type": "stream",
     "text": [
      "0\n",
      "1\n",
      "2\n",
      "3\n",
      "4\n",
      "5\n",
      "6\n"
     ]
    }
   ],
   "source": [
    "i = 0\n",
    "while i <7:\n",
    "    print(i)\n",
    "    i+=1"
   ]
  },
  {
   "cell_type": "markdown",
   "id": "c3bfddb0-a72a-44ed-a7a4-ed9400eb6e13",
   "metadata": {},
   "source": [
    "# Forloop"
   ]
  },
  {
   "cell_type": "code",
   "execution_count": 19,
   "id": "7f5325ff-0140-4b09-b5b8-4660e239b906",
   "metadata": {},
   "outputs": [
    {
     "name": "stdout",
     "output_type": "stream",
     "text": [
      "22\n",
      "Hello\n",
      "24\n",
      "Hello\n",
      "34\n",
      "Hello\n",
      "40\n",
      "Hello\n",
      "46\n",
      "Hello\n",
      "52\n",
      "Hello\n"
     ]
    }
   ],
   "source": [
    "a=[20,22,32,38,44,50]\n",
    "\n",
    "for i in a:\n",
    "    print(i+2)\n",
    "    print(\"Hello\")\n",
    "    "
   ]
  },
  {
   "cell_type": "code",
   "execution_count": null,
   "id": "8dcb5f5c-ddb8-4129-adde-e5486864938b",
   "metadata": {},
   "outputs": [],
   "source": [
    "i = 0\n",
    "while i<3:\n",
    "    print(i)\n",
    "    \n",
    "    if i==5:\n",
    "       break\n",
    "    \n",
    "    i+=1"
   ]
  },
  {
   "cell_type": "code",
   "execution_count": null,
   "id": "e5b20077-3cff-4353-99ba-31d288978dc6",
   "metadata": {},
   "outputs": [],
   "source": []
  }
 ],
 "metadata": {
  "kernelspec": {
   "display_name": "Python 3 (ipykernel)",
   "language": "python",
   "name": "python3"
  },
  "language_info": {
   "codemirror_mode": {
    "name": "ipython",
    "version": 3
   },
   "file_extension": ".py",
   "mimetype": "text/x-python",
   "name": "python",
   "nbconvert_exporter": "python",
   "pygments_lexer": "ipython3",
   "version": "3.10.11"
  }
 },
 "nbformat": 4,
 "nbformat_minor": 5
}
