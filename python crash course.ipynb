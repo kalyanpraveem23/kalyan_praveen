{
 "cells": [
  {
   "cell_type": "code",
   "execution_count": 16,
   "id": "7a31e503-7471-46e5-b631-9a610848eaf9",
   "metadata": {},
   "outputs": [
    {
     "name": "stdin",
     "output_type": "stream",
     "text": [
      "Enter your guess number:  44\n"
     ]
    },
    {
     "name": "stdout",
     "output_type": "stream",
     "text": [
      "Sorry, your guess is wrong.\n"
     ]
    },
    {
     "name": "stdin",
     "output_type": "stream",
     "text": [
      "Enter your guess number:  55\n"
     ]
    },
    {
     "name": "stdout",
     "output_type": "stream",
     "text": [
      "Sorry, your guess is wrong.\n"
     ]
    },
    {
     "name": "stdin",
     "output_type": "stream",
     "text": [
      "Enter your guess number:  56\n"
     ]
    },
    {
     "name": "stdout",
     "output_type": "stream",
     "text": [
      "Congrats, your guess is correct!\n"
     ]
    }
   ],
   "source": [
    "secret_number = 56\n",
    "\n",
    "for i in range(0, 7):\n",
    "    user_input = int(input(\"Enter your guess number: \"))\n",
    "    \n",
    "    if secret_number == user_input:\n",
    "        print(\"Congrats, your guess is correct!\")\n",
    "        break\n",
    "    else:\n",
    "        print(\"Sorry, your guess is wrong.\")\n"
   ]
  },
  {
   "cell_type": "code",
   "execution_count": 17,
   "id": "f2becf21-5780-4448-b657-06c04f951000",
   "metadata": {
    "jp-MarkdownHeadingCollapsed": true
   },
   "outputs": [
    {
     "name": "stdin",
     "output_type": "stream",
     "text": [
      "Enter your guess number:  6665\n"
     ]
    },
    {
     "name": "stdout",
     "output_type": "stream",
     "text": [
      "Sorry, your guess is wrong.\n"
     ]
    },
    {
     "name": "stdin",
     "output_type": "stream",
     "text": [
      "Enter your guess number:  44\n"
     ]
    },
    {
     "name": "stdout",
     "output_type": "stream",
     "text": [
      "Sorry, your guess is wrong.\n"
     ]
    },
    {
     "name": "stdin",
     "output_type": "stream",
     "text": [
      "Enter your guess number:  56\n"
     ]
    },
    {
     "name": "stdout",
     "output_type": "stream",
     "text": [
      "Congrats, your guess is correct!\n"
     ]
    }
   ],
   "source": [
    "secret_number = 56\n",
    "\n",
    "while True:\n",
    "    user_input = int(input(\"Enter your guess number: \"))\n",
    "    \n",
    "    if secret_number == user_input:\n",
    "        print(\"Congrats, your guess is correct!\")\n",
    "        break\n",
    "    else:\n",
    "        print(\"Sorry, your guess is wrong.\")\n"
   ]
  },
  {
   "cell_type": "code",
   "execution_count": 24,
   "id": "10ee802c-a8c6-47d2-809d-97bab5bbeaed",
   "metadata": {},
   "outputs": [
    {
     "name": "stdin",
     "output_type": "stream",
     "text": [
      "Enter your guess number:  55\n"
     ]
    },
    {
     "name": "stdout",
     "output_type": "stream",
     "text": [
      "Your number is lesser\n"
     ]
    },
    {
     "name": "stdin",
     "output_type": "stream",
     "text": [
      "Enter your guess number:  123\n"
     ]
    },
    {
     "name": "stdout",
     "output_type": "stream",
     "text": [
      "Invalid number Enter the correct number between 1-100\n"
     ]
    },
    {
     "name": "stdin",
     "output_type": "stream",
     "text": [
      "Enter your guess number:  45\n"
     ]
    },
    {
     "name": "stdout",
     "output_type": "stream",
     "text": [
      "Your number is lesser\n"
     ]
    },
    {
     "name": "stdin",
     "output_type": "stream",
     "text": [
      "Enter your guess number:  234\n"
     ]
    },
    {
     "name": "stdout",
     "output_type": "stream",
     "text": [
      "Invalid number Enter the correct number between 1-100\n"
     ]
    },
    {
     "name": "stdin",
     "output_type": "stream",
     "text": [
      "Enter your guess number:  43\n"
     ]
    },
    {
     "name": "stdout",
     "output_type": "stream",
     "text": [
      "Your number is lesser\n"
     ]
    },
    {
     "name": "stdin",
     "output_type": "stream",
     "text": [
      "Enter your guess number:  234\n"
     ]
    },
    {
     "name": "stdout",
     "output_type": "stream",
     "text": [
      "Invalid number Enter the correct number between 1-100\n"
     ]
    },
    {
     "name": "stdin",
     "output_type": "stream",
     "text": [
      "Enter your guess number:  43\n"
     ]
    },
    {
     "name": "stdout",
     "output_type": "stream",
     "text": [
      "Your number is lesser\n",
      "Sorry All your trails is exceed.try again\n"
     ]
    }
   ],
   "source": [
    " secret_number = 56\n",
    "\n",
    "for i in range(0,7):\n",
    "    user_input = int(input(\"Enter your guess number: \"))\n",
    "    \n",
    "    if user_input < 1 or user_input > 100 :\n",
    "        print(\"Invalid number Enter the correct number between 1-100\")\n",
    "    elif user_input > secret_number:\n",
    "        print(\"Your number is higher\")\n",
    "    elif user_input < secret_number:\n",
    "        print(\"Your number is lesser\")\n",
    "    else:\n",
    "        print(\"Your guessed number is correct!\")\n",
    "\n",
    "        break\n",
    "if secret_number == user_input:\n",
    "    print(f\"Congulation! you guessed the {secret_number}in {i} attempts\")\n",
    "else:\n",
    "    print(\"Sorry All your trails is exceed.try again\")\n",
    "   \n",
    "    \n",
    "\n"
   ]
  },
  {
   "cell_type": "code",
   "execution_count": null,
   "id": "d72eae03-c208-4887-b0a3-11009cad91ab",
   "metadata": {},
   "outputs": [],
   "source": []
  },
  {
   "cell_type": "code",
   "execution_count": null,
   "id": "e95e91f0-97ab-4935-a971-5485b2ca637d",
   "metadata": {},
   "outputs": [],
   "source": []
  },
  {
   "cell_type": "code",
   "execution_count": null,
   "id": "e00adbf5-7d80-4b33-a96e-e29e7530863d",
   "metadata": {},
   "outputs": [],
   "source": []
  },
  {
   "cell_type": "code",
   "execution_count": null,
   "id": "357d5100-ec28-4e0e-92b6-d20a3024fa2f",
   "metadata": {},
   "outputs": [],
   "source": []
  },
  {
   "cell_type": "code",
   "execution_count": null,
   "id": "489d2835-3674-48fa-a906-a259c6828f37",
   "metadata": {},
   "outputs": [],
   "source": [
    " secret_number = 56\n",
    "\n",
    "for i in range(0,7):\n",
    "    user_input = int(input(\"Enter your guess number: \"))\n",
    "    \n",
    "    if user_input < 1 or user_input > 100 :\n",
    "        print(\"Invalid number Enter the correct number between 1-100\")\n",
    "    elif user_input > secret_number:\n",
    "        print(\"Your number is higher\")\n",
    "    elif user_input < secret_number:\n",
    "        print(\"Your number is lesser\")\n",
    "    else:\n",
    "        print(\"Your guessed number is correct!\")\n",
    "\n",
    "        break\n",
    "if secret_number == user_input:\n",
    "    print(f\"Congulation! you guessed the {secret_number}in {i} attempts\")\n",
    "else:\n",
    "    print(\"Sorry All your trails is exceed.try again\")\n",
    "   "
   ]
  },
  {
   "cell_type": "code",
   "execution_count": null,
   "id": "288779a4-66c3-4d6c-b962-17abaeec0cab",
   "metadata": {},
   "outputs": [],
   "source": []
  },
  {
   "cell_type": "code",
   "execution_count": 47,
   "id": "beb74249-127e-4aef-a835-e4090283ab64",
   "metadata": {},
   "outputs": [
    {
     "name": "stdin",
     "output_type": "stream",
     "text": [
      "Enter your guess number:  65\n"
     ]
    },
    {
     "name": "stdout",
     "output_type": "stream",
     "text": [
      "Your number is higher\n"
     ]
    },
    {
     "name": "stdin",
     "output_type": "stream",
     "text": [
      "Enter your guess number:  25\n"
     ]
    },
    {
     "name": "stdout",
     "output_type": "stream",
     "text": [
      "Your number is higher\n"
     ]
    },
    {
     "name": "stdin",
     "output_type": "stream",
     "text": [
      "Enter your guess number:  15\n"
     ]
    },
    {
     "name": "stdout",
     "output_type": "stream",
     "text": [
      "Your number is lesser\n"
     ]
    },
    {
     "name": "stdin",
     "output_type": "stream",
     "text": [
      "Enter your guess number:  20\n"
     ]
    },
    {
     "name": "stdout",
     "output_type": "stream",
     "text": [
      "Your number is higher\n"
     ]
    },
    {
     "name": "stdin",
     "output_type": "stream",
     "text": [
      "Enter your guess number:  16\n"
     ]
    },
    {
     "name": "stdout",
     "output_type": "stream",
     "text": [
      "Your number is lesser\n"
     ]
    },
    {
     "name": "stdin",
     "output_type": "stream",
     "text": [
      "Enter your guess number:  18\n"
     ]
    },
    {
     "name": "stdout",
     "output_type": "stream",
     "text": [
      "Your guessed number is correct!\n",
      "Congulation! you guessed the 18in 6 attempts\n"
     ]
    }
   ],
   "source": [
    "import random\n",
    "\n",
    "\n",
    "secret_number = random.randint(1,100)\n",
    "\n",
    "for i in range(1,8):\n",
    "    user_input = int(input(\"Enter your guess number: \"))\n",
    "    \n",
    "    if user_input < 1 or user_input > 100 :\n",
    "        print(\"Invalid number Enter the  number between 1-100\")\n",
    "    elif user_input > secret_number:\n",
    "        print(\"Your number is higher\")\n",
    "    elif user_input < secret_number:\n",
    "        print(\"Your number is lesser\")\n",
    "    else:\n",
    "        print(\"Your guessed number is correct!\")\n",
    "        break\n",
    "        \n",
    "if secret_number == user_input:\n",
    "    print(f\"Congulation! you guessed the {secret_number}in {i} attempts\")\n",
    "else:\n",
    "    print(\"Sorry All your trails is exceed.try again\")\n",
    "   "
   ]
  },
  {
   "cell_type": "code",
   "execution_count": 45,
   "id": "efeee93a-593c-46f8-bfef-ca4ae054bbe0",
   "metadata": {},
   "outputs": [
    {
     "data": {
      "text/plain": [
       "30"
      ]
     },
     "execution_count": 45,
     "metadata": {},
     "output_type": "execute_result"
    }
   ],
   "source": [
    "secret_number"
   ]
  },
  {
   "cell_type": "code",
   "execution_count": 46,
   "id": "39f9548b-3d66-42f4-b4ce-c8436d3a1d3d",
   "metadata": {},
   "outputs": [
    {
     "name": "stdin",
     "output_type": "stream",
     "text": [
      "Enter your guess number:  88\n"
     ]
    },
    {
     "name": "stdout",
     "output_type": "stream",
     "text": [
      "Your number is higher\n"
     ]
    },
    {
     "name": "stdin",
     "output_type": "stream",
     "text": [
      "Enter your guess number:  50\n"
     ]
    },
    {
     "name": "stdout",
     "output_type": "stream",
     "text": [
      "Your number is higher\n"
     ]
    },
    {
     "name": "stdin",
     "output_type": "stream",
     "text": [
      "Enter your guess number:  30\n"
     ]
    },
    {
     "name": "stdout",
     "output_type": "stream",
     "text": [
      "Your number is higher\n"
     ]
    },
    {
     "name": "stdin",
     "output_type": "stream",
     "text": [
      "Enter your guess number:  10\n"
     ]
    },
    {
     "name": "stdout",
     "output_type": "stream",
     "text": [
      "Your number is lesser\n"
     ]
    },
    {
     "name": "stdin",
     "output_type": "stream",
     "text": [
      "Enter your guess number:  15\n"
     ]
    },
    {
     "name": "stdout",
     "output_type": "stream",
     "text": [
      "Your number is lesser\n"
     ]
    },
    {
     "name": "stdin",
     "output_type": "stream",
     "text": [
      "Enter your guess number:  13\n"
     ]
    },
    {
     "name": "stdout",
     "output_type": "stream",
     "text": [
      "Your number is lesser\n"
     ]
    },
    {
     "name": "stdin",
     "output_type": "stream",
     "text": [
      "Enter your guess number:  12\n"
     ]
    },
    {
     "name": "stdout",
     "output_type": "stream",
     "text": [
      "Your number is lesser\n"
     ]
    },
    {
     "name": "stdin",
     "output_type": "stream",
     "text": [
      "Enter your guess number:  11\n"
     ]
    },
    {
     "name": "stdout",
     "output_type": "stream",
     "text": [
      "Your number is lesser\n"
     ]
    },
    {
     "ename": "KeyboardInterrupt",
     "evalue": "Interrupted by user",
     "output_type": "error",
     "traceback": [
      "\u001b[1;31m---------------------------------------------------------------------------\u001b[0m",
      "\u001b[1;31mKeyboardInterrupt\u001b[0m                         Traceback (most recent call last)",
      "Cell \u001b[1;32mIn[46], line 7\u001b[0m\n\u001b[0;32m      4\u001b[0m secret_number \u001b[38;5;241m=\u001b[39m random\u001b[38;5;241m.\u001b[39mrandint(\u001b[38;5;241m1\u001b[39m,\u001b[38;5;241m100\u001b[39m)\n\u001b[0;32m      6\u001b[0m \u001b[38;5;28;01mwhile\u001b[39;00m \u001b[38;5;28;01mTrue\u001b[39;00m:\n\u001b[1;32m----> 7\u001b[0m     user_input \u001b[38;5;241m=\u001b[39m \u001b[38;5;28mint\u001b[39m(\u001b[38;5;28;43minput\u001b[39;49m\u001b[43m(\u001b[49m\u001b[38;5;124;43m\"\u001b[39;49m\u001b[38;5;124;43mEnter your guess number: \u001b[39;49m\u001b[38;5;124;43m\"\u001b[39;49m\u001b[43m)\u001b[49m)\n\u001b[0;32m      9\u001b[0m     \u001b[38;5;28;01mif\u001b[39;00m user_input \u001b[38;5;241m<\u001b[39m \u001b[38;5;241m1\u001b[39m \u001b[38;5;129;01mor\u001b[39;00m user_input \u001b[38;5;241m>\u001b[39m \u001b[38;5;241m100\u001b[39m :\n\u001b[0;32m     10\u001b[0m         \u001b[38;5;28mprint\u001b[39m(\u001b[38;5;124m\"\u001b[39m\u001b[38;5;124mInvalid number Enter the correct number between 1-100\u001b[39m\u001b[38;5;124m\"\u001b[39m)\n",
      "File \u001b[1;32m~\\AppData\\Local\\Programs\\Python\\Python310\\lib\\site-packages\\ipykernel\\kernelbase.py:1282\u001b[0m, in \u001b[0;36mKernel.raw_input\u001b[1;34m(self, prompt)\u001b[0m\n\u001b[0;32m   1280\u001b[0m     msg \u001b[38;5;241m=\u001b[39m \u001b[38;5;124m\"\u001b[39m\u001b[38;5;124mraw_input was called, but this frontend does not support input requests.\u001b[39m\u001b[38;5;124m\"\u001b[39m\n\u001b[0;32m   1281\u001b[0m     \u001b[38;5;28;01mraise\u001b[39;00m StdinNotImplementedError(msg)\n\u001b[1;32m-> 1282\u001b[0m \u001b[38;5;28;01mreturn\u001b[39;00m \u001b[38;5;28;43mself\u001b[39;49m\u001b[38;5;241;43m.\u001b[39;49m\u001b[43m_input_request\u001b[49m\u001b[43m(\u001b[49m\n\u001b[0;32m   1283\u001b[0m \u001b[43m    \u001b[49m\u001b[38;5;28;43mstr\u001b[39;49m\u001b[43m(\u001b[49m\u001b[43mprompt\u001b[49m\u001b[43m)\u001b[49m\u001b[43m,\u001b[49m\n\u001b[0;32m   1284\u001b[0m \u001b[43m    \u001b[49m\u001b[38;5;28;43mself\u001b[39;49m\u001b[38;5;241;43m.\u001b[39;49m\u001b[43m_parent_ident\u001b[49m\u001b[43m[\u001b[49m\u001b[38;5;124;43m\"\u001b[39;49m\u001b[38;5;124;43mshell\u001b[39;49m\u001b[38;5;124;43m\"\u001b[39;49m\u001b[43m]\u001b[49m\u001b[43m,\u001b[49m\n\u001b[0;32m   1285\u001b[0m \u001b[43m    \u001b[49m\u001b[38;5;28;43mself\u001b[39;49m\u001b[38;5;241;43m.\u001b[39;49m\u001b[43mget_parent\u001b[49m\u001b[43m(\u001b[49m\u001b[38;5;124;43m\"\u001b[39;49m\u001b[38;5;124;43mshell\u001b[39;49m\u001b[38;5;124;43m\"\u001b[39;49m\u001b[43m)\u001b[49m\u001b[43m,\u001b[49m\n\u001b[0;32m   1286\u001b[0m \u001b[43m    \u001b[49m\u001b[43mpassword\u001b[49m\u001b[38;5;241;43m=\u001b[39;49m\u001b[38;5;28;43;01mFalse\u001b[39;49;00m\u001b[43m,\u001b[49m\n\u001b[0;32m   1287\u001b[0m \u001b[43m\u001b[49m\u001b[43m)\u001b[49m\n",
      "File \u001b[1;32m~\\AppData\\Local\\Programs\\Python\\Python310\\lib\\site-packages\\ipykernel\\kernelbase.py:1325\u001b[0m, in \u001b[0;36mKernel._input_request\u001b[1;34m(self, prompt, ident, parent, password)\u001b[0m\n\u001b[0;32m   1322\u001b[0m \u001b[38;5;28;01mexcept\u001b[39;00m \u001b[38;5;167;01mKeyboardInterrupt\u001b[39;00m:\n\u001b[0;32m   1323\u001b[0m     \u001b[38;5;66;03m# re-raise KeyboardInterrupt, to truncate traceback\u001b[39;00m\n\u001b[0;32m   1324\u001b[0m     msg \u001b[38;5;241m=\u001b[39m \u001b[38;5;124m\"\u001b[39m\u001b[38;5;124mInterrupted by user\u001b[39m\u001b[38;5;124m\"\u001b[39m\n\u001b[1;32m-> 1325\u001b[0m     \u001b[38;5;28;01mraise\u001b[39;00m \u001b[38;5;167;01mKeyboardInterrupt\u001b[39;00m(msg) \u001b[38;5;28;01mfrom\u001b[39;00m\u001b[38;5;250m \u001b[39m\u001b[38;5;28;01mNone\u001b[39;00m\n\u001b[0;32m   1326\u001b[0m \u001b[38;5;28;01mexcept\u001b[39;00m \u001b[38;5;167;01mException\u001b[39;00m:\n\u001b[0;32m   1327\u001b[0m     \u001b[38;5;28mself\u001b[39m\u001b[38;5;241m.\u001b[39mlog\u001b[38;5;241m.\u001b[39mwarning(\u001b[38;5;124m\"\u001b[39m\u001b[38;5;124mInvalid Message:\u001b[39m\u001b[38;5;124m\"\u001b[39m, exc_info\u001b[38;5;241m=\u001b[39m\u001b[38;5;28;01mTrue\u001b[39;00m)\n",
      "\u001b[1;31mKeyboardInterrupt\u001b[0m: Interrupted by user"
     ]
    }
   ],
   "source": [
    "import random\n",
    "\n",
    "\n",
    "secret_number = random.randint(1,100)\n",
    "\n",
    "while True:\n",
    "    user_input = int(input(\"Enter your guess number: \"))\n",
    "    \n",
    "    if user_input < 1 or user_input > 100 :\n",
    "        print(\"Invalid number Enter the correct number between 1-100\")\n",
    "    elif user_input > secret_number:\n",
    "        print(\"Your number is higher\")\n",
    "    elif user_input < secret_number:\n",
    "        print(\"Your number is lesser\")\n",
    "    else:\n",
    "        print(\"Your guessed number is correct!\")\n",
    "\n",
    "        break\n",
    "\n",
    "   "
   ]
  },
  {
   "cell_type": "code",
   "execution_count": null,
   "id": "57881fde-f426-479b-94f5-559d61eaa1c3",
   "metadata": {},
   "outputs": [],
   "source": [
    "secret_number"
   ]
  },
  {
   "cell_type": "code",
   "execution_count": null,
   "id": "ae5f9e50-6aa1-46fb-a8e2-98da37faa2e5",
   "metadata": {},
   "outputs": [],
   "source": [
    "import random\n",
    "\n",
    "\n",
    "secret_number = random.randint(1,100)\n",
    "\n",
    "for i in range(1,8):\n",
    "    try:\n",
    "        user_input = int(input(\"Enter your guess number: \"))\n",
    "        \n",
    "        if user_input < 1 or user_input > 100 :\n",
    "            print(\"Invalid number Enter the  number between 1-100\")\n",
    "        elif user_input > secret_number:\n",
    "            print(\"Your number is higher\")\n",
    "        elif user_input < secret_number:\n",
    "            print(\"Your number is lesser\")\n",
    "        else:\n",
    "            print(\"Your guessed number is correct!\")\n",
    "            break\n",
    "    except ValueError:\n",
    "       print(\"Invalid Character,Not recoginzed. please Enter the  number between 1-100 \")\n",
    "                                                \n",
    "        \n",
    "if secret_number == user_input:\n",
    "    print(f\"Congulation! you guessed the {secret_number}in {i} attempts\")\n",
    "else:\n",
    "    print(\"Sorry All your trails is exceed.try again\")"
   ]
  },
  {
   "cell_type": "markdown",
   "id": "ab4b53f0-4671-4384-aaa0-f4f00378a74e",
   "metadata": {},
   "source": [
    "## Function"
   ]
  },
  {
   "cell_type": "code",
   "execution_count": 4,
   "id": "f47b2413-b589-4006-ad71-3b3e17d22b4b",
   "metadata": {},
   "outputs": [],
   "source": [
    " def Number_guessing_game():\n",
    "    import random\n",
    "    \n",
    "    \n",
    "    secret_number = random.randint(1,100)\n",
    "    \n",
    "    for i in range(1,8):\n",
    "        try:\n",
    "            user_input = int(input(\"Enter your guess number: \"))\n",
    "            \n",
    "            if user_input < 1 or user_input > 100 :\n",
    "                print(\"Invalid number Enter the  number between 1-100\")\n",
    "            elif user_input > secret_number:\n",
    "                print(\"Your number is higher\")\n",
    "            elif user_input < secret_number:\n",
    "                print(\"Your number is lesser\")\n",
    "            else:\n",
    "                print(\"Your guessed number is correct!\")\n",
    "                break\n",
    "        except ValueError:\n",
    "           print(\"Invalid Character,Not recoginzed. please Enter the  number between 1-100 \")\n",
    "                                                    \n",
    "            \n",
    "    if secret_number == user_input:\n",
    "        print(f\"Congulation! you guessed the {secret_number}in {i} attempts\")\n",
    "    else:\n",
    "        print(\"Sorry All your trails is exceed.try again\")"
   ]
  },
  {
   "cell_type": "code",
   "execution_count": 6,
   "id": "0a2f3e33-532d-49e7-84a1-530bdcf40358",
   "metadata": {
    "jupyter": {
     "source_hidden": true
    }
   },
   "outputs": [
    {
     "name": "stdin",
     "output_type": "stream",
     "text": [
      "Enter your guess number:  43\n"
     ]
    },
    {
     "name": "stdout",
     "output_type": "stream",
     "text": [
      "Your number is lesser\n"
     ]
    },
    {
     "name": "stdin",
     "output_type": "stream",
     "text": [
      "Enter your guess number:  80\n"
     ]
    },
    {
     "name": "stdout",
     "output_type": "stream",
     "text": [
      "Your number is higher\n"
     ]
    },
    {
     "name": "stdin",
     "output_type": "stream",
     "text": [
      "Enter your guess number:  60\n"
     ]
    },
    {
     "name": "stdout",
     "output_type": "stream",
     "text": [
      "Your number is lesser\n"
     ]
    },
    {
     "name": "stdin",
     "output_type": "stream",
     "text": [
      "Enter your guess number:  75\n"
     ]
    },
    {
     "name": "stdout",
     "output_type": "stream",
     "text": [
      "Your number is lesser\n"
     ]
    },
    {
     "name": "stdin",
     "output_type": "stream",
     "text": [
      "Enter your guess number:  70\n"
     ]
    },
    {
     "name": "stdout",
     "output_type": "stream",
     "text": [
      "Your number is lesser\n"
     ]
    },
    {
     "name": "stdin",
     "output_type": "stream",
     "text": [
      "Enter your guess number:  65\n"
     ]
    },
    {
     "name": "stdout",
     "output_type": "stream",
     "text": [
      "Your number is lesser\n"
     ]
    },
    {
     "name": "stdin",
     "output_type": "stream",
     "text": [
      "Enter your guess number:  63\n"
     ]
    },
    {
     "name": "stdout",
     "output_type": "stream",
     "text": [
      "Your number is lesser\n",
      "Sorry All your trails is exceed.try again\n"
     ]
    }
   ],
   "source": [
    "Number_guessing_game()"
   ]
  },
  {
   "cell_type": "markdown",
   "id": "e9290942-bc5a-4f51-a9b3-60d116e747dc",
   "metadata": {},
   "source": [
    "will continue later"
   ]
  },
  {
   "cell_type": "markdown",
   "id": "e6d1c75a-07ca-4f04-bd0d-bef2d651ce36",
   "metadata": {},
   "source": [
    "## List\n"
   ]
  },
  {
   "cell_type": "code",
   "execution_count": 8,
   "id": "3f879603-d747-4191-897f-7d2c36e8a474",
   "metadata": {},
   "outputs": [
    {
     "data": {
      "text/plain": [
       "['apple', 'orange', 'Grapes', 'Mango', 'Apple', 6, 7, 8]"
      ]
     },
     "execution_count": 8,
     "metadata": {},
     "output_type": "execute_result"
    }
   ],
   "source": [
    "item_to_buy=['apple','orange','Grapes','Mango','Apple',6,7,8]\n",
    "item_to_buy"
   ]
  },
  {
   "cell_type": "code",
   "execution_count": 10,
   "id": "f859a7b2-7782-4880-a156-1b3c3d639631",
   "metadata": {},
   "outputs": [
    {
     "data": {
      "text/plain": [
       "'apple'"
      ]
     },
     "execution_count": 10,
     "metadata": {},
     "output_type": "execute_result"
    }
   ],
   "source": [
    "item_to_buy[-8]"
   ]
  },
  {
   "cell_type": "code",
   "execution_count": 11,
   "id": "1c3eddb1-2333-4f66-8375-771fa792dfc4",
   "metadata": {},
   "outputs": [
    {
     "data": {
      "text/plain": [
       "['Grapes', 'Mango', 'Apple']"
      ]
     },
     "execution_count": 11,
     "metadata": {},
     "output_type": "execute_result"
    }
   ],
   "source": [
    "item_to_buy[2:5]"
   ]
  },
  {
   "cell_type": "code",
   "execution_count": 16,
   "id": "81362463-fe4f-4dd6-a619-2a57bb76744d",
   "metadata": {},
   "outputs": [
    {
     "data": {
      "text/plain": [
       "['apple', 'orange', 'Grapes', 'Mango']"
      ]
     },
     "execution_count": 16,
     "metadata": {},
     "output_type": "execute_result"
    }
   ],
   "source": [
    "item_to_buy[-8:-4]"
   ]
  },
  {
   "cell_type": "code",
   "execution_count": 18,
   "id": "cc0faa7c-3a68-48c1-b0ff-068148a9ebd9",
   "metadata": {
    "scrolled": true
   },
   "outputs": [],
   "source": [
    "item_to_buy[1]='wetermelon'"
   ]
  },
  {
   "cell_type": "code",
   "execution_count": 19,
   "id": "5ba0d886-71d1-4ef4-a423-37daf8c7aaee",
   "metadata": {},
   "outputs": [
    {
     "data": {
      "text/plain": [
       "['apple', 'wetermelon', 'Grapes', 'Mango', 'Apple', 6, 7, 8]"
      ]
     },
     "execution_count": 19,
     "metadata": {},
     "output_type": "execute_result"
    }
   ],
   "source": [
    "item_to_buy"
   ]
  },
  {
   "cell_type": "markdown",
   "id": "80400139-d19c-4a7d-8150-c4b144e4f533",
   "metadata": {},
   "source": [
    "## set\n"
   ]
  },
  {
   "cell_type": "code",
   "execution_count": 36,
   "id": "62951f9f-4616-489e-b907-3598041b13f3",
   "metadata": {},
   "outputs": [],
   "source": [
    "empty_cart_2= set()"
   ]
  },
  {
   "cell_type": "code",
   "execution_count": 37,
   "id": "e6dc17f6-3a2a-4a71-bae5-04a5b13ff4cf",
   "metadata": {},
   "outputs": [
    {
     "data": {
      "text/plain": [
       "set"
      ]
     },
     "execution_count": 37,
     "metadata": {},
     "output_type": "execute_result"
    }
   ],
   "source": [
    "type(empty_cart_2)"
   ]
  },
  {
   "cell_type": "code",
   "execution_count": 38,
   "id": "fd08e2e9-b633-4e28-9646-e0dc384f17bc",
   "metadata": {},
   "outputs": [
    {
     "data": {
      "text/plain": [
       "{6, 7, 8, 'Apple', 'Grapes', 'Mango', 'apple', 'orange'}"
      ]
     },
     "execution_count": 38,
     "metadata": {},
     "output_type": "execute_result"
    }
   ],
   "source": [
    "empty_cart_2={'apple','orange','Grapes','Mango','Apple',6,7,8}\n",
    "empty_cart_2"
   ]
  },
  {
   "cell_type": "code",
   "execution_count": 39,
   "id": "a1ad0264-ae88-4658-af36-cb886863705a",
   "metadata": {},
   "outputs": [
    {
     "data": {
      "text/plain": [
       "set"
      ]
     },
     "execution_count": 39,
     "metadata": {},
     "output_type": "execute_result"
    }
   ],
   "source": [
    "type(empty_cart_2)"
   ]
  },
  {
   "cell_type": "code",
   "execution_count": 42,
   "id": "531fc698-011f-4484-97a7-389408184b18",
   "metadata": {
    "scrolled": true
   },
   "outputs": [],
   "source": [
    "empty_cart_2.add(\"wetermelon\")"
   ]
  },
  {
   "cell_type": "code",
   "execution_count": 43,
   "id": "a1814652-d4b4-4ea7-b415-8078c2cf69c5",
   "metadata": {},
   "outputs": [
    {
     "data": {
      "text/plain": [
       "{6, 7, 8, 'Apple', 'Grapes', 'Mango', 'apple', 'orange', 'wetermelon'}"
      ]
     },
     "execution_count": 43,
     "metadata": {},
     "output_type": "execute_result"
    }
   ],
   "source": [
    "empty_cart_2"
   ]
  },
  {
   "cell_type": "code",
   "execution_count": 45,
   "id": "4c6458bc-93d1-46f8-acf5-f176bac45757",
   "metadata": {},
   "outputs": [],
   "source": [
    "empty_cart_2.discard(\"Apple\")"
   ]
  },
  {
   "cell_type": "code",
   "execution_count": 46,
   "id": "bb281518-6c45-4cf1-aa78-c3ae8974c69a",
   "metadata": {},
   "outputs": [
    {
     "data": {
      "text/plain": [
       "{6, 7, 8, 'Grapes', 'Mango', 'apple', 'orange', 'wetermelon'}"
      ]
     },
     "execution_count": 46,
     "metadata": {},
     "output_type": "execute_result"
    }
   ],
   "source": [
    "empty_cart_2"
   ]
  },
  {
   "cell_type": "markdown",
   "id": "e22f7a4e-ae79-4a9e-b510-1ef32f9f063e",
   "metadata": {},
   "source": [
    "## Tuple"
   ]
  },
  {
   "cell_type": "code",
   "execution_count": null,
   "id": "3aacb112-3f4a-445d-8c45-297b8d74e137",
   "metadata": {},
   "outputs": [],
   "source": [
    "= ()"
   ]
  }
 ],
 "metadata": {
  "kernelspec": {
   "display_name": "Python 3 (ipykernel)",
   "language": "python",
   "name": "python3"
  },
  "language_info": {
   "codemirror_mode": {
    "name": "ipython",
    "version": 3
   },
   "file_extension": ".py",
   "mimetype": "text/x-python",
   "name": "python",
   "nbconvert_exporter": "python",
   "pygments_lexer": "ipython3",
   "version": "3.10.11"
  }
 },
 "nbformat": 4,
 "nbformat_minor": 5
}
